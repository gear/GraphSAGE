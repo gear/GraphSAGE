{
 "cells": [
  {
   "cell_type": "code",
   "execution_count": 110,
   "metadata": {},
   "outputs": [],
   "source": [
    "import pandas as pd\n",
    "from sklearn.model_selection import train_test_split\n",
    "from sklearn.metrics import accuracy_score, precision_score, recall_score\n",
    "\n",
    "import torch\n",
    "import torch.nn as nn\n",
    "import torch.nn.functional as F\n",
    "from torch.autograd import Variable\n",
    "\n",
    "import sys\n",
    "sys.path.append(\"../graphsage/\")\n",
    "import "
   ]
  },
  {
   "cell_type": "code",
   "execution_count": 3,
   "metadata": {},
   "outputs": [],
   "source": [
    "from utils import load_data"
   ]
  },
  {
   "cell_type": "code",
   "execution_count": 7,
   "metadata": {},
   "outputs": [],
   "source": [
    "import numpy as np"
   ]
  },
  {
   "cell_type": "code",
   "execution_count": 137,
   "metadata": {},
   "outputs": [],
   "source": [
    "from sklearn.metrics import accuracy_score"
   ]
  },
  {
   "cell_type": "code",
   "execution_count": 8,
   "metadata": {},
   "outputs": [
    {
     "name": "stdout",
     "output_type": "stream",
     "text": [
      "Removed 0 nodes that lacked proper annotations due to networkx versioning issues\n",
      "Loaded data.. now preprocessing..\n"
     ]
    }
   ],
   "source": [
    "G, feats, id_map, _, class_map = load_data(\"/data/ppi/ppi\")"
   ]
  },
  {
   "cell_type": "code",
   "execution_count": 98,
   "metadata": {},
   "outputs": [],
   "source": [
    "train_X, train_y = [], []\n",
    "test_X, test_y = [], []\n",
    "val_X, val_y = [], []\n",
    "\n",
    "for nodeid in G.nodes():\n",
    "    idx = id_map[nodeid]\n",
    "    c = class_map[nodeid]\n",
    "    if G.node[nodeid]['test']:\n",
    "        test_X.append(feats[idx])\n",
    "        test_y.append(c)\n",
    "    elif G.node[nodeid]['val']:\n",
    "        val_X.append(feats[idx])\n",
    "        val_y.append(c)\n",
    "    else:\n",
    "        train_X.append(feats[idx])\n",
    "        train_y.append(c)\n",
    "        \n",
    "train_X = np.array(train_X, dtype=np.float32)\n",
    "train_y = np.array(train_y, dtype=np.float32)\n",
    "test_X = np.array(test_X, dtype=np.float32)\n",
    "\n",
    "train_X = Variable(torch.Tensor(train_X).float())\n",
    "test_X = Variable(torch.Tensor(test_X).float())\n",
    "train_y = Variable(torch.Tensor(train_y).long())\n",
    "test_y = Variable(torch.Tensor(test_y).long())"
   ]
  },
  {
   "cell_type": "code",
   "execution_count": 100,
   "metadata": {},
   "outputs": [
    {
     "data": {
      "text/plain": [
       "tensor([1, 1, 1,  ..., 1, 1, 1])"
      ]
     },
     "execution_count": 100,
     "metadata": {},
     "output_type": "execute_result"
    }
   ],
   "source": [
    "train_y[:,0]"
   ]
  },
  {
   "cell_type": "code",
   "execution_count": 155,
   "metadata": {},
   "outputs": [],
   "source": [
    "all_preds = []"
   ]
  },
  {
   "cell_type": "code",
   "execution_count": null,
   "metadata": {},
   "outputs": [
    {
     "name": "stdout",
     "output_type": "stream",
     "text": [
      "('i: ', 0, 0.6417451122375091)\n",
      "('i: ', 0, 0.4093479208385447)\n",
      "('i: ', 1, 0.7659304851556843)\n",
      "('i: ', 1, 0.4352411278300776)\n",
      "('i: ', 2, 0.7939898624185373)\n",
      "('i: ', 2, 0.4425832492431887)\n"
     ]
    }
   ],
   "source": [
    "class Net(nn.Module):\n",
    "    # define nn\n",
    "    def __init__(self):\n",
    "        super(Net, self ).__init__()\n",
    "        self.fc1 = nn.Linear(50, 100)\n",
    "        self.fc3 = nn.Linear(100, 2)\n",
    "\n",
    "    def forward(self, X):\n",
    "        X = F.relu(self.fc1(X))\n",
    "        X = self.fc3(X)\n",
    "        #X = F.sigmoid(X)\n",
    "\n",
    "        return X\n",
    "    \n",
    "for i in range(121):\n",
    "    train_y_ = train_y[:,i]\n",
    "    test_y_ = test_y[:,i]\n",
    "\n",
    "    net = Net()\n",
    "\n",
    "    criterion = nn.CrossEntropyLoss()# cross entropy loss\n",
    "    \n",
    "    optimizer = torch.optim.SGD(net.parameters(), lr=0.01)\n",
    "    \n",
    "    for epoch in range(1000):\n",
    "        optimizer.zero_grad()\n",
    "        out = net(train_X)\n",
    "        loss = criterion(out, train_y_)\n",
    "        loss.backward()\n",
    "        optimizer.step()\n",
    "    \n",
    "    pred = np.array(net(test_X).detach())\n",
    "    pred = np.argmax(pred, axis=1)\n",
    "    all_preds.append(pred)\n",
    "    print(\"i: \", i, f1_score(y_pred=pred, y_true=np.array(test_y_), average=\"micro\"))\n",
    "    print(\"i: \", i, f1_score(y_pred=pred, y_true=np.array(test_y_), average=\"macro\"))"
   ]
  },
  {
   "cell_type": "code",
   "execution_count": 153,
   "metadata": {},
   "outputs": [
    {
     "name": "stdout",
     "output_type": "stream",
     "text": [
      "Automatic pdb calling has been turned ON\n"
     ]
    }
   ],
   "source": [
    "%pdb"
   ]
  },
  {
   "cell_type": "code",
   "execution_count": 112,
   "metadata": {},
   "outputs": [
    {
     "data": {
      "text/plain": [
       "242"
      ]
     },
     "execution_count": 112,
     "metadata": {},
     "output_type": "execute_result"
    }
   ],
   "source": [
    "len(all_preds)"
   ]
  },
  {
   "cell_type": "code",
   "execution_count": 116,
   "metadata": {},
   "outputs": [],
   "source": [
    "all_preds = all_preds[:121] "
   ]
  },
  {
   "cell_type": "code",
   "execution_count": 121,
   "metadata": {},
   "outputs": [],
   "source": [
    "all_preds = np.array(all_preds)"
   ]
  },
  {
   "cell_type": "code",
   "execution_count": 133,
   "metadata": {},
   "outputs": [
    {
     "data": {
      "text/plain": [
       "(5524,)"
      ]
     },
     "execution_count": 133,
     "metadata": {},
     "output_type": "execute_result"
    }
   ],
   "source": [
    "all_preds[0].shape"
   ]
  },
  {
   "cell_type": "code",
   "execution_count": 122,
   "metadata": {},
   "outputs": [
    {
     "data": {
      "text/plain": [
       "array([1, 0, 0, 0, 0, 0, 0, 0, 0, 0, 0, 0, 1, 0, 0, 1, 0, 0, 0, 1, 0, 1,\n",
       "       0, 0, 0, 1, 1, 0, 1, 0, 1, 0, 1, 0, 0, 0, 0, 0, 0, 0, 0, 0, 0, 0,\n",
       "       0, 0, 1, 0, 0, 0, 1, 0, 0, 0, 0, 0, 0, 0, 0, 0, 0, 0, 0, 0, 0, 0,\n",
       "       0, 0, 0, 0, 0, 0, 0, 0, 0, 0, 0, 0, 0, 0, 0, 0, 0, 0, 0, 1, 0, 0,\n",
       "       0, 0, 0, 0, 1, 0, 0, 0, 0, 0, 0, 0, 1, 0, 0, 0, 0, 0, 0, 0, 0, 0,\n",
       "       0, 0, 0, 0, 0, 0, 1, 1, 1, 1, 0])"
      ]
     },
     "execution_count": 122,
     "metadata": {},
     "output_type": "execute_result"
    }
   ],
   "source": [
    "all_preds[:,0]"
   ]
  },
  {
   "cell_type": "code",
   "execution_count": 141,
   "metadata": {},
   "outputs": [
    {
     "data": {
      "text/plain": [
       "0.43322728879462713"
      ]
     },
     "execution_count": 141,
     "metadata": {},
     "output_type": "execute_result"
    }
   ],
   "source": [
    "f1_score(np.array(test_y), all_preds.T, average=\"micro\")"
   ]
  },
  {
   "cell_type": "code",
   "execution_count": 140,
   "metadata": {},
   "outputs": [
    {
     "data": {
      "text/plain": [
       "0.15738736881868182"
      ]
     },
     "execution_count": 140,
     "metadata": {},
     "output_type": "execute_result"
    }
   ],
   "source": [
    "f1_score(y_pred=all_preds.T, y_true=np.array(test_y), average=\"macro\")"
   ]
  },
  {
   "cell_type": "code",
   "execution_count": 148,
   "metadata": {},
   "outputs": [],
   "source": [
    "mac_acc = 0\n",
    "for i in range(121):\n",
    "    mac_acc += f1_score(y_pred=all_preds[i], y_true=np.array(test_y)[:,i], average=\"macro\")"
   ]
  },
  {
   "cell_type": "code",
   "execution_count": null,
   "metadata": {},
   "outputs": [],
   "source": [
    "mac_acc / 120"
   ]
  },
  {
   "cell_type": "code",
   "execution_count": 135,
   "metadata": {},
   "outputs": [
    {
     "data": {
      "text/plain": [
       "0.3900801973819237"
      ]
     },
     "execution_count": 135,
     "metadata": {},
     "output_type": "execute_result"
    }
   ],
   "source": [
    "f1_score(y_pred=all_preds[0], y_true=np.array(test_y)[:,0], average=\"macro\")"
   ]
  },
  {
   "cell_type": "code",
   "execution_count": 136,
   "metadata": {},
   "outputs": [
    {
     "data": {
      "text/plain": [
       "0.7662925416364953"
      ]
     },
     "execution_count": 136,
     "metadata": {},
     "output_type": "execute_result"
    }
   ],
   "source": [
    "f1_score(y_pred=all_preds[1], y_true=np.array(test_y)[:,1], average=\"micro\") "
   ]
  },
  {
   "cell_type": "code",
   "execution_count": 144,
   "metadata": {},
   "outputs": [
    {
     "data": {
      "text/plain": [
       "0.7481208969425677"
      ]
     },
     "execution_count": 144,
     "metadata": {},
     "output_type": "execute_result"
    }
   ],
   "source": [
    "f1_score(np.ravel(np.array(test_y)), np.ravel(all_preds.T), average=\"micro\")"
   ]
  },
  {
   "cell_type": "code",
   "execution_count": 145,
   "metadata": {},
   "outputs": [
    {
     "data": {
      "text/plain": [
       "0.6356543296303908"
      ]
     },
     "execution_count": 145,
     "metadata": {},
     "output_type": "execute_result"
    }
   ],
   "source": [
    "f1_score(np.ravel(np.array(test_y)), np.ravel(all_preds.T), average=\"macro\")"
   ]
  },
  {
   "cell_type": "code",
   "execution_count": 151,
   "metadata": {},
   "outputs": [],
   "source": [
    "def micro_f1(logits, labels): \n",
    "    # Compute predictions \n",
    "    preds = torch.round(nn.Sigmoid()(logits)) \n",
    "    # Cast to avoid trouble \n",
    "    preds = preds.long() \n",
    "    labels = labels.long() \n",
    "    # Count true positives, true negatives, false positives, false negatives \n",
    "    tp = torch.nonzero(preds * labels).shape[0] * 1.0 \n",
    "    tn = torch.nonzero((preds - 1) * (labels - 1)).shape[0] * 1.0 \n",
    "    fp = torch.nonzero(preds * (labels - 1)).shape[0] * 1.0 \n",
    "    fn = torch.nonzero((preds - 1) * labels).shape[0] * 1.0 \n",
    "    # Compute micro-f1 score \n",
    "    prec = tp / (tp + fp) \n",
    "    rec = tp / (tp + fn) \n",
    "    f1 = (2 * prec * rec) / (prec + rec) \n",
    "    return f1"
   ]
  },
  {
   "cell_type": "code",
   "execution_count": null,
   "metadata": {},
   "outputs": [],
   "source": []
  }
 ],
 "metadata": {
  "kernelspec": {
   "display_name": "Python 2",
   "language": "python",
   "name": "python2"
  },
  "language_info": {
   "codemirror_mode": {
    "name": "ipython",
    "version": 2
   },
   "file_extension": ".py",
   "mimetype": "text/x-python",
   "name": "python",
   "nbconvert_exporter": "python",
   "pygments_lexer": "ipython2",
   "version": "2.7.15"
  }
 },
 "nbformat": 4,
 "nbformat_minor": 2
}
