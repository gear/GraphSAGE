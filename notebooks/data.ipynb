{
 "cells": [
  {
   "cell_type": "code",
   "execution_count": 1,
   "metadata": {},
   "outputs": [],
   "source": [
    "import numpy as np\n",
    "import networkx as nx\n",
    "import json\n",
    "from networkx.readwrite import json_graph"
   ]
  },
  {
   "cell_type": "code",
   "execution_count": 29,
   "metadata": {},
   "outputs": [],
   "source": [
    "from matplotlib import pyplot as plt"
   ]
  },
  {
   "cell_type": "code",
   "execution_count": 43,
   "metadata": {},
   "outputs": [],
   "source": [
    "from bokeh.io import show, output_file, output_notebook\n",
    "from bokeh.models import Plot, Range1d, MultiLine, Circle, HoverTool, BoxZoomTool, ResetTool\n",
    "from bokeh.models.graphs import from_networkx\n",
    "from bokeh.palettes import Spectral4"
   ]
  },
  {
   "cell_type": "code",
   "execution_count": 90,
   "metadata": {},
   "outputs": [],
   "source": [
    "import os"
   ]
  },
  {
   "cell_type": "code",
   "execution_count": 2,
   "metadata": {},
   "outputs": [],
   "source": [
    "graph_data = json.load(open(\"/home/gear/data/ppi/ppi-G.json\"))"
   ]
  },
  {
   "cell_type": "code",
   "execution_count": 3,
   "metadata": {},
   "outputs": [],
   "source": [
    "G = json_graph.node_link_graph(graph_data)"
   ]
  },
  {
   "cell_type": "code",
   "execution_count": 4,
   "metadata": {},
   "outputs": [
    {
     "data": {
      "text/plain": [
       "56944"
      ]
     },
     "execution_count": 4,
     "metadata": {},
     "output_type": "execute_result"
    }
   ],
   "source": [
    "len(G)"
   ]
  },
  {
   "cell_type": "markdown",
   "metadata": {},
   "source": [
    "### Get the number connected components and a mapping for separated graphs"
   ]
  },
  {
   "cell_type": "code",
   "execution_count": 5,
   "metadata": {},
   "outputs": [
    {
     "name": "stdout",
     "output_type": "stream",
     "text": [
      "Number of connected components:  295\n"
     ]
    }
   ],
   "source": [
    "num_connected_components = nx.number_connected_components(G)\n",
    "connected_components_subgraphs = nx.connected_component_subgraphs(G)\n",
    "\n",
    "print(\"Number of connected components: \", num_connected_components)"
   ]
  },
  {
   "cell_type": "code",
   "execution_count": 6,
   "metadata": {},
   "outputs": [
    {
     "data": {
      "text/plain": [
       "generator"
      ]
     },
     "execution_count": 6,
     "metadata": {},
     "output_type": "execute_result"
    }
   ],
   "source": [
    "type(connected_components_subgraphs)"
   ]
  },
  {
   "cell_type": "code",
   "execution_count": 7,
   "metadata": {},
   "outputs": [],
   "source": [
    "connected_components_subgraphs = [g for g in connected_components_subgraphs]"
   ]
  },
  {
   "cell_type": "code",
   "execution_count": 8,
   "metadata": {},
   "outputs": [
    {
     "data": {
      "text/plain": [
       "{'test': False, 'val': False}"
      ]
     },
     "execution_count": 8,
     "metadata": {},
     "output_type": "execute_result"
    }
   ],
   "source": [
    "connected_components_subgraphs[0].node[0]"
   ]
  },
  {
   "cell_type": "code",
   "execution_count": 10,
   "metadata": {},
   "outputs": [],
   "source": [
    "test_graphs = []\n",
    "val_graphs = []\n",
    "train_graphs = []\n",
    "for i, g in enumerate(connected_components_subgraphs):\n",
    "    test = 'not set'\n",
    "    val = 'not set'\n",
    "    for node_id in g.nodes():\n",
    "        if test == 'not set' and val == 'not set':\n",
    "            test = str(g.node[node_id]['test'])\n",
    "            val = str(g.node[node_id]['val'])\n",
    "        if str(g.node[node_id]['test']) != test or str(g.node[node_id]['val']) != val:\n",
    "            print(\"Inconsistent in val-test marker for graph index {}\".format(i))\n",
    "    if test == 'True' and val == 'False':\n",
    "        test_graphs.append(g)\n",
    "    if test == 'False' and val == 'True':\n",
    "        val_graphs.append(g)\n",
    "    if test == 'False' and val == 'False':\n",
    "        train_graphs.append(g)\n",
    "    if test == 'True' and val == 'True':\n",
    "        print(\"Something is really wrong.\")"
   ]
  },
  {
   "cell_type": "markdown",
   "metadata": {},
   "source": [
    "The cell above doesn't print val-test warning means that the data is correct: Each whole connected component is a test/val/train."
   ]
  },
  {
   "cell_type": "code",
   "execution_count": 11,
   "metadata": {},
   "outputs": [
    {
     "data": {
      "text/plain": [
       "30"
      ]
     },
     "execution_count": 11,
     "metadata": {},
     "output_type": "execute_result"
    }
   ],
   "source": [
    "len(test_graphs)"
   ]
  },
  {
   "cell_type": "code",
   "execution_count": 12,
   "metadata": {},
   "outputs": [
    {
     "data": {
      "text/plain": [
       "30"
      ]
     },
     "execution_count": 12,
     "metadata": {},
     "output_type": "execute_result"
    }
   ],
   "source": [
    "len(val_graphs)"
   ]
  },
  {
   "cell_type": "code",
   "execution_count": 13,
   "metadata": {},
   "outputs": [
    {
     "data": {
      "text/plain": [
       "235"
      ]
     },
     "execution_count": 13,
     "metadata": {},
     "output_type": "execute_result"
    }
   ],
   "source": [
    "len(train_graphs)"
   ]
  },
  {
   "cell_type": "code",
   "execution_count": 25,
   "metadata": {},
   "outputs": [
    {
     "name": "stdout",
     "output_type": "stream",
     "text": [
      "0 3194\n",
      "8 2\n",
      "15 2\n",
      "19 2300\n"
     ]
    }
   ],
   "source": [
    "for i, tg in enumerate(test_graphs):\n",
    "    if len(tg) > 1:\n",
    "        print(i, len(tg))"
   ]
  },
  {
   "cell_type": "code",
   "execution_count": 27,
   "metadata": {},
   "outputs": [
    {
     "name": "stdout",
     "output_type": "stream",
     "text": [
      "0 3195\n",
      "4 2\n",
      "5 2\n",
      "9 2\n",
      "13 3284\n",
      "20 2\n",
      "22 2\n",
      "23 2\n",
      "25 2\n"
     ]
    }
   ],
   "source": [
    "for i, vg in enumerate(val_graphs):\n",
    "    if len(vg) > 1:\n",
    "        print(i, len(vg))"
   ]
  },
  {
   "cell_type": "code",
   "execution_count": 28,
   "metadata": {},
   "outputs": [
    {
     "name": "stdout",
     "output_type": "stream",
     "text": [
      "0 1546\n",
      "9 1377\n",
      "12 2\n",
      "20 2263\n",
      "31 2339\n",
      "42 1578\n",
      "52 1021\n",
      "61 1823\n",
      "74 2488\n",
      "87 591\n",
      "99 3312\n",
      "103 2\n",
      "105 2\n",
      "112 2401\n",
      "119 1878\n",
      "126 1819\n",
      "133 3480\n",
      "141 2\n",
      "150 2794\n",
      "164 2326\n",
      "172 2650\n",
      "187 2815\n",
      "202 3163\n",
      "208 2\n",
      "213 2\n",
      "218 3021\n"
     ]
    }
   ],
   "source": [
    "for i, tg in enumerate(train_graphs):\n",
    "    if len(tg) > 1:\n",
    "        print(i, len(tg))"
   ]
  },
  {
   "cell_type": "code",
   "execution_count": 37,
   "metadata": {},
   "outputs": [
    {
     "data": {
      "image/png": "[encoded data removed]",
      "text/plain": [
       "<Figure size 432x288 with 1 Axes>"
      ]
     },
     "metadata": {},
     "output_type": "display_data"
    }
   ],
   "source": [
    "nx.draw_spring(test_graphs[0], node_color='C0', node_size=10, figsize=(20,15), dpi=300)\n",
    "plt.show()"
   ]
  },
  {
   "cell_type": "code",
   "execution_count": 47,
   "metadata": {},
   "outputs": [],
   "source": [
    "def interactive_graph(graph, name='unamed_plot'):\n",
    "    plot = Plot(plot_width=800, plot_height=800,\n",
    "                x_range=Range1d(-1.1, 1.1), y_range=Range1d(-1.1, 1.1))\n",
    "    plot.title.text = \"Graph {}\".format(name)\n",
    "    plot.add_tools(BoxZoomTool(), ResetTool())\n",
    "    graph_renderer = from_networkx(graph, nx.spring_layout, scale=1, center=(0, 0))\n",
    "    graph_renderer.node_renderer.glyph = Circle(size=8, fill_color=Spectral4[0])\n",
    "    graph_renderer.edge_renderer.glyph = MultiLine(line_alpha=0.5, line_width=1)\n",
    "    plot.renderers.append(graph_renderer)\n",
    "    output_file(name+\".html\")\n",
    "    show(plot)"
   ]
  },
  {
   "cell_type": "markdown",
   "metadata": {},
   "source": [
    "### Adding noise to the feature vectors "
   ]
  },
  {
   "cell_type": "code",
   "execution_count": 52,
   "metadata": {},
   "outputs": [],
   "source": [
    "ppi_features = np.load(\"/home/gear/data/ppi/ppi-feats.npy\")"
   ]
  },
  {
   "cell_type": "code",
   "execution_count": 53,
   "metadata": {},
   "outputs": [
    {
     "data": {
      "text/plain": [
       "56944"
      ]
     },
     "execution_count": 53,
     "metadata": {},
     "output_type": "execute_result"
    }
   ],
   "source": [
    "len(ppi_features)"
   ]
  },
  {
   "cell_type": "code",
   "execution_count": 54,
   "metadata": {},
   "outputs": [
    {
     "data": {
      "text/plain": [
       "(56944, 50)"
      ]
     },
     "execution_count": 54,
     "metadata": {},
     "output_type": "execute_result"
    }
   ],
   "source": [
    "ppi_features.shape"
   ]
  },
  {
   "cell_type": "code",
   "execution_count": 62,
   "metadata": {},
   "outputs": [
    {
     "data": {
      "text/plain": [
       "array([ 417.,  432.,  717., 1627.,  336.,  564.,  322.,  731.,  826.,\n",
       "        562.,    0., 1602.,  106.,  701.,  323.,  741.,  596.,  712.,\n",
       "       1142.,  535.,  426., 1173.,  852.,  866.,  548.,  799.,  755.,\n",
       "        301.,  246.,  424., 1771., 1164., 1405., 1387., 1209., 9002.,\n",
       "       1432., 1335., 1278., 1087.,  933., 1310., 1411., 1324., 1185.,\n",
       "       1160., 1349., 1076., 1247., 1233.])"
      ]
     },
     "execution_count": 62,
     "metadata": {},
     "output_type": "execute_result"
    }
   ],
   "source": [
    "sum(ppi_features)"
   ]
  },
  {
   "cell_type": "code",
   "execution_count": 63,
   "metadata": {},
   "outputs": [
    {
     "name": "stdout",
     "output_type": "stream",
     "text": [
      "Number of nodes with zero features:  24211\n"
     ]
    }
   ],
   "source": [
    "zero_feature_count = 0\n",
    "for f in ppi_features:\n",
    "    if sum(f) == 0:\n",
    "        zero_feature_count += 1\n",
    "print(\"Number of nodes with zero features: \", zero_feature_count)"
   ]
  },
  {
   "cell_type": "code",
   "execution_count": 64,
   "metadata": {},
   "outputs": [
    {
     "name": "stdout",
     "output_type": "stream",
     "text": [
      "Test, val, train zero features count:  2377 2826 19008\n"
     ]
    }
   ],
   "source": [
    "zero_feats_test_count = 0\n",
    "zero_feats_val_count = 0\n",
    "zero_feats_train_count = 0\n",
    "for i, f in enumerate(ppi_features):\n",
    "    if sum(f) == 0:\n",
    "        if G.node[i]['test']:\n",
    "            zero_feats_test_count += 1\n",
    "        elif G.node[i]['val']:\n",
    "            zero_feats_val_count += 1\n",
    "        else:\n",
    "            zero_feats_train_count += 1\n",
    "print(\"Test, val, train zero features count: \", zero_feats_test_count, zero_feats_val_count, zero_feats_train_count)"
   ]
  },
  {
   "cell_type": "code",
   "execution_count": 65,
   "metadata": {},
   "outputs": [],
   "source": [
    "test_count = 0\n",
    "val_count = 0\n",
    "train_count = 0\n",
    "for i in G.nodes():\n",
    "    if G.node[i]['test']:\n",
    "        test_count += 1\n",
    "    elif G.node[i]['val']:\n",
    "        val_count += 1\n",
    "    else:\n",
    "        train_count += 1"
   ]
  },
  {
   "cell_type": "code",
   "execution_count": 66,
   "metadata": {},
   "outputs": [
    {
     "name": "stdout",
     "output_type": "stream",
     "text": [
      "Test, val, train total node count:  5524 6514 44906\n"
     ]
    }
   ],
   "source": [
    "print(\"Test, val, train total node count: \", test_count, val_count, train_count)"
   ]
  },
  {
   "cell_type": "code",
   "execution_count": 67,
   "metadata": {},
   "outputs": [
    {
     "data": {
      "text/plain": [
       "0.43030412744388125"
      ]
     },
     "execution_count": 67,
     "metadata": {},
     "output_type": "execute_result"
    }
   ],
   "source": [
    "2377 / 5524"
   ]
  },
  {
   "cell_type": "code",
   "execution_count": 68,
   "metadata": {},
   "outputs": [
    {
     "data": {
      "text/plain": [
       "0.433834817316549"
      ]
     },
     "execution_count": 68,
     "metadata": {},
     "output_type": "execute_result"
    }
   ],
   "source": [
    "2826 / 6514"
   ]
  },
  {
   "cell_type": "code",
   "execution_count": 69,
   "metadata": {},
   "outputs": [
    {
     "data": {
      "text/plain": [
       "0.4232841936489556"
      ]
     },
     "execution_count": 69,
     "metadata": {},
     "output_type": "execute_result"
    }
   ],
   "source": [
    "19008 / 44906"
   ]
  },
  {
   "cell_type": "markdown",
   "metadata": {},
   "source": [
    "A few functions to corrupt a single 1-d feature array"
   ]
  },
  {
   "cell_type": "code",
   "execution_count": 73,
   "metadata": {},
   "outputs": [
    {
     "name": "stdout",
     "output_type": "stream",
     "text": [
      "2 5\n",
      "1 8\n",
      "6 3\n",
      "6 4\n",
      "8 1\n"
     ]
    }
   ],
   "source": [
    "for (i, j) in np.random.choice([1,2,3,4,5,6,7,8,9,0], size=(5,2), replace=True):\n",
    "    print(i,j)"
   ]
  },
  {
   "cell_type": "code",
   "execution_count": 77,
   "metadata": {},
   "outputs": [],
   "source": [
    "def random_swap(arr, noise_rate=0.1):\n",
    "    assert 0.0 <= noise_rate <= 1.0, \"Really?\"\n",
    "    n = len(arr)\n",
    "    count = int(n *noise_rate)\n",
    "    if n < 2*count:\n",
    "        rpl = True\n",
    "    else:\n",
    "        rpl = False\n",
    "    swap_pairs = np.random.choice(range(n), size=(count, 2), replace=rpl)\n",
    "    for (i, j) in swap_pairs:\n",
    "        t = arr[i]\n",
    "        arr[i] = arr[j]\n",
    "        arr[j] = t\n",
    "    return arr"
   ]
  },
  {
   "cell_type": "code",
   "execution_count": 89,
   "metadata": {},
   "outputs": [],
   "source": [
    "def gaussian_noise(arr, mean=0.0, std=1.0):\n",
    "    arr = np.array(arr, dtype=float)\n",
    "    arr = arr + np.random.normal(mean, std, size=arr.shape)\n",
    "    return arr"
   ]
  },
  {
   "cell_type": "code",
   "execution_count": 101,
   "metadata": {},
   "outputs": [],
   "source": [
    "test = np.array([[1,2,3,4,5], [6,7,8,9,0]])"
   ]
  },
  {
   "cell_type": "code",
   "execution_count": 100,
   "metadata": {},
   "outputs": [],
   "source": [
    "t = lambda aa: np.apply_along_axis(lambda a: random_swap(a, noise_rate=0.5), 1, aa)"
   ]
  },
  {
   "cell_type": "code",
   "execution_count": 102,
   "metadata": {},
   "outputs": [
    {
     "data": {
      "text/plain": [
       "array([[5, 4, 3, 2, 1],\n",
       "       [9, 0, 8, 6, 7]])"
      ]
     },
     "execution_count": 102,
     "metadata": {},
     "output_type": "execute_result"
    }
   ],
   "source": [
    "t(test)"
   ]
  },
  {
   "cell_type": "code",
   "execution_count": 103,
   "metadata": {},
   "outputs": [
    {
     "data": {
      "text/plain": [
       "array([[5, 4, 3, 2, 1],\n",
       "       [9, 0, 8, 6, 7]])"
      ]
     },
     "execution_count": 103,
     "metadata": {},
     "output_type": "execute_result"
    }
   ],
   "source": [
    "test"
   ]
  },
  {
   "cell_type": "code",
   "execution_count": 93,
   "metadata": {},
   "outputs": [],
   "source": [
    "def corrupt_features(path_to_file, noise_func, name):\n",
    "    org_features = np.load(path_to_file)\n",
    "    new_features = noise_func(org_features)\n",
    "    new_name, ext = os.path.splitext(path_to_file)\n",
    "    new_name = new_name + name + ext\n",
    "    np.save(new_name, new_features)\n",
    "    print(\"Saved new features set at {}\".format(new_name))"
   ]
  },
  {
   "cell_type": "code",
   "execution_count": 108,
   "metadata": {},
   "outputs": [
    {
     "name": "stdout",
     "output_type": "stream",
     "text": [
      "Saved new features set at /home/gear/data/ppi/ppi-feats-random_swap_0.2.npy\n"
     ]
    }
   ],
   "source": [
    "corrupt_features(\"/home/gear/data/ppi/ppi-feats.npy\", \n",
    "                 lambda aa: np.apply_along_axis(lambda a: random_swap(a, noise_rate=0.2), 1, aa),\n",
    "                 \"-random_swap_0.2\")"
   ]
  },
  {
   "cell_type": "code",
   "execution_count": 109,
   "metadata": {},
   "outputs": [
    {
     "name": "stdout",
     "output_type": "stream",
     "text": [
      "Saved new features set at /home/gear/data/ppi/ppi-feats-random_swap_0.3.npy\n"
     ]
    }
   ],
   "source": [
    "corrupt_features(\"/home/gear/data/ppi/ppi-feats.npy\", \n",
    "                 lambda aa: np.apply_along_axis(lambda a: random_swap(a, noise_rate=0.3), 1, aa),\n",
    "                 \"-random_swap_0.3\")"
   ]
  },
  {
   "cell_type": "code",
   "execution_count": 110,
   "metadata": {},
   "outputs": [
    {
     "name": "stdout",
     "output_type": "stream",
     "text": [
      "Saved new features set at /home/gear/data/ppi/ppi-feats-random_swap_0.35.npy\n"
     ]
    }
   ],
   "source": [
    "corrupt_features(\"/home/gear/data/ppi/ppi-feats.npy\", \n",
    "                 lambda aa: np.apply_along_axis(lambda a: random_swap(a, noise_rate=0.35), 1, aa),\n",
    "                 \"-random_swap_0.35\")"
   ]
  },
  {
   "cell_type": "code",
   "execution_count": 111,
   "metadata": {},
   "outputs": [
    {
     "name": "stdout",
     "output_type": "stream",
     "text": [
      "Saved new features set at /home/gear/data/ppi/ppi-feats-random_swap_0.4.npy\n"
     ]
    }
   ],
   "source": [
    "corrupt_features(\"/home/gear/data/ppi/ppi-feats.npy\", \n",
    "                 lambda aa: np.apply_along_axis(lambda a: random_swap(a, noise_rate=0.4), 1, aa),\n",
    "                 \"-random_swap_0.4\")"
   ]
  },
  {
   "cell_type": "code",
   "execution_count": 112,
   "metadata": {},
   "outputs": [
    {
     "name": "stdout",
     "output_type": "stream",
     "text": [
      "Saved new features set at /home/gear/data/ppi/ppi-feats-random_swap_0.45.npy\n"
     ]
    }
   ],
   "source": [
    "corrupt_features(\"/home/gear/data/ppi/ppi-feats.npy\", \n",
    "                 lambda aa: np.apply_along_axis(lambda a: random_swap(a, noise_rate=0.45), 1, aa),\n",
    "                 \"-random_swap_0.45\")"
   ]
  },
  {
   "cell_type": "code",
   "execution_count": 113,
   "metadata": {},
   "outputs": [
    {
     "name": "stdout",
     "output_type": "stream",
     "text": [
      "Saved new features set at /home/gear/data/ppi/ppi-feats-random_swap_0.5.npy\n"
     ]
    }
   ],
   "source": [
    "corrupt_features(\"/home/gear/data/ppi/ppi-feats.npy\", \n",
    "                 lambda aa: np.apply_along_axis(lambda a: random_swap(a, noise_rate=0.5), 1, aa),\n",
    "                 \"-random_swap_0.5\")"
   ]
  },
  {
   "cell_type": "code",
   "execution_count": 114,
   "metadata": {},
   "outputs": [
    {
     "name": "stdout",
     "output_type": "stream",
     "text": [
      "Saved new features set at /home/gear/data/ppi/ppi-feats-random_swap_0.55.npy\n"
     ]
    }
   ],
   "source": [
    "corrupt_features(\"/home/gear/data/ppi/ppi-feats.npy\", \n",
    "                 lambda aa: np.apply_along_axis(lambda a: random_swap(a, noise_rate=0.55), 1, aa),\n",
    "                 \"-random_swap_0.55\")"
   ]
  },
  {
   "cell_type": "code",
   "execution_count": 115,
   "metadata": {},
   "outputs": [
    {
     "name": "stdout",
     "output_type": "stream",
     "text": [
      "Saved new features set at /home/gear/data/ppi/ppi-feats-random_swap_0.6.npy\n"
     ]
    }
   ],
   "source": [
    "corrupt_features(\"/home/gear/data/ppi/ppi-feats.npy\", \n",
    "                 lambda aa: np.apply_along_axis(lambda a: random_swap(a, noise_rate=0.6), 1, aa),\n",
    "                 \"-random_swap_0.6\")"
   ]
  },
  {
   "cell_type": "code",
   "execution_count": 116,
   "metadata": {},
   "outputs": [
    {
     "name": "stdout",
     "output_type": "stream",
     "text": [
      "Saved new features set at /home/gear/data/ppi/ppi-feats-random_swap_0.65.npy\n"
     ]
    }
   ],
   "source": [
    "corrupt_features(\"/home/gear/data/ppi/ppi-feats.npy\", \n",
    "                 lambda aa: np.apply_along_axis(lambda a: random_swap(a, noise_rate=0.65), 1, aa),\n",
    "                 \"-random_swap_0.65\")"
   ]
  },
  {
   "cell_type": "code",
   "execution_count": 117,
   "metadata": {},
   "outputs": [
    {
     "name": "stdout",
     "output_type": "stream",
     "text": [
      "Saved new features set at /home/gear/data/ppi/ppi-feats-random_swap_0.7.npy\n"
     ]
    }
   ],
   "source": [
    "corrupt_features(\"/home/gear/data/ppi/ppi-feats.npy\", \n",
    "                 lambda aa: np.apply_along_axis(lambda a: random_swap(a, noise_rate=0.7), 1, aa),\n",
    "                 \"-random_swap_0.7\")"
   ]
  },
  {
   "cell_type": "code",
   "execution_count": 121,
   "metadata": {},
   "outputs": [
    {
     "name": "stdout",
     "output_type": "stream",
     "text": [
      "Saved new features set at /home/gear/data/ppi/ppi-feats-random_swap_0.25.npy\n"
     ]
    }
   ],
   "source": [
    "corrupt_features(\"/home/gear/data/ppi/ppi-feats.npy\", \n",
    "                 lambda aa: np.apply_along_axis(lambda a: random_swap(a, noise_rate=0.25), 1, aa),\n",
    "                 \"-random_swap_0.25\")"
   ]
  },
  {
   "cell_type": "code",
   "execution_count": 122,
   "metadata": {},
   "outputs": [
    {
     "name": "stdout",
     "output_type": "stream",
     "text": [
      "Saved new features set at /home/gear/data/ppi/ppi-feats-random_swap_0.15.npy\n"
     ]
    }
   ],
   "source": [
    "corrupt_features(\"/home/gear/data/ppi/ppi-feats.npy\", \n",
    "                 lambda aa: np.apply_along_axis(lambda a: random_swap(a, noise_rate=0.15), 1, aa),\n",
    "                 \"-random_swap_0.15\")"
   ]
  },
  {
   "cell_type": "code",
   "execution_count": 123,
   "metadata": {},
   "outputs": [
    {
     "name": "stdout",
     "output_type": "stream",
     "text": [
      "Saved new features set at /home/gear/data/ppi/ppi-feats-random_swap_0.1.npy\n"
     ]
    }
   ],
   "source": [
    "corrupt_features(\"/home/gear/data/ppi/ppi-feats.npy\", \n",
    "                 lambda aa: np.apply_along_axis(lambda a: random_swap(a, noise_rate=0.1), 1, aa),\n",
    "                 \"-random_swap_0.1\")"
   ]
  },
  {
   "cell_type": "code",
   "execution_count": 124,
   "metadata": {},
   "outputs": [
    {
     "name": "stdout",
     "output_type": "stream",
     "text": [
      "Saved new features set at /home/gear/data/ppi/ppi-feats-random_swap_0.75.npy\n"
     ]
    }
   ],
   "source": [
    "corrupt_features(\"/home/gear/data/ppi/ppi-feats.npy\", \n",
    "                 lambda aa: np.apply_along_axis(lambda a: random_swap(a, noise_rate=0.75), 1, aa),\n",
    "                 \"-random_swap_0.75\")"
   ]
  },
  {
   "cell_type": "code",
   "execution_count": 125,
   "metadata": {},
   "outputs": [
    {
     "name": "stdout",
     "output_type": "stream",
     "text": [
      "Saved new features set at /home/gear/data/ppi/ppi-feats-random_swap_0.8.npy\n"
     ]
    }
   ],
   "source": [
    "corrupt_features(\"/home/gear/data/ppi/ppi-feats.npy\", \n",
    "                 lambda aa: np.apply_along_axis(lambda a: random_swap(a, noise_rate=0.8), 1, aa),\n",
    "                 \"-random_swap_0.8\")"
   ]
  },
  {
   "cell_type": "code",
   "execution_count": 126,
   "metadata": {},
   "outputs": [
    {
     "name": "stdout",
     "output_type": "stream",
     "text": [
      "Saved new features set at /home/gear/data/ppi/ppi-feats-random_swap_0.85.npy\n"
     ]
    }
   ],
   "source": [
    "corrupt_features(\"/home/gear/data/ppi/ppi-feats.npy\", \n",
    "                 lambda aa: np.apply_along_axis(lambda a: random_swap(a, noise_rate=0.85), 1, aa),\n",
    "                 \"-random_swap_0.85\")"
   ]
  },
  {
   "cell_type": "code",
   "execution_count": 127,
   "metadata": {},
   "outputs": [
    {
     "name": "stdout",
     "output_type": "stream",
     "text": [
      "Saved new features set at /home/gear/data/ppi/ppi-feats-random_swap_0.9.npy\n"
     ]
    }
   ],
   "source": [
    "corrupt_features(\"/home/gear/data/ppi/ppi-feats.npy\", \n",
    "                 lambda aa: np.apply_along_axis(lambda a: random_swap(a, noise_rate=0.9), 1, aa),\n",
    "                 \"-random_swap_0.9\")"
   ]
  },
  {
   "cell_type": "code",
   "execution_count": 128,
   "metadata": {},
   "outputs": [
    {
     "name": "stdout",
     "output_type": "stream",
     "text": [
      "Saved new features set at /home/gear/data/ppi/ppi-feats-random_swap_0.95.npy\n"
     ]
    }
   ],
   "source": [
    "corrupt_features(\"/home/gear/data/ppi/ppi-feats.npy\", \n",
    "                 lambda aa: np.apply_along_axis(lambda a: random_swap(a, noise_rate=0.95), 1, aa),\n",
    "                 \"-random_swap_0.95\")"
   ]
  },
  {
   "cell_type": "code",
   "execution_count": null,
   "metadata": {},
   "outputs": [],
   "source": []
  }
 ],
 "metadata": {
  "kernelspec": {
   "display_name": "Python 3",
   "language": "python",
   "name": "python3"
  },
  "language_info": {
   "codemirror_mode": {
    "name": "ipython",
    "version": 3
   },
   "file_extension": ".py",
   "mimetype": "text/x-python",
   "name": "python",
   "nbconvert_exporter": "python",
   "pygments_lexer": "ipython3",
   "version": "3.6.7"
  }
 },
 "nbformat": 4,
 "nbformat_minor": 2
}
