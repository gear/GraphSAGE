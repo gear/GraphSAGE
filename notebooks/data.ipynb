{
 "cells": [
  {
   "cell_type": "code",
   "execution_count": 1,
   "metadata": {},
   "outputs": [],
   "source": [
    "import numpy as np\n",
    "import networkx as nx\n",
    "import json\n",
    "from networkx.readwrite import json_graph"
   ]
  },
  {
   "cell_type": "code",
   "execution_count": 2,
   "metadata": {},
   "outputs": [],
   "source": [
    "from matplotlib import pyplot as plt"
   ]
  },
  {
   "cell_type": "code",
   "execution_count": 3,
   "metadata": {},
   "outputs": [],
   "source": [
    "from bokeh.io import show, output_file, output_notebook\n",
    "from bokeh.models import Plot, Range1d, MultiLine, Circle, HoverTool, BoxZoomTool, ResetTool\n",
    "from bokeh.models.graphs import from_networkx\n",
    "from bokeh.palettes import Spectral4"
   ]
  },
  {
   "cell_type": "code",
   "execution_count": 4,
   "metadata": {},
   "outputs": [],
   "source": [
    "import pandas as pd\n",
    "import seaborn as sns\n",
    "import matplotlib.pyplot as plt\n",
    "from scipy import stats\n",
    "sns.set(color_codes=True)"
   ]
  },
  {
   "cell_type": "code",
   "execution_count": 5,
   "metadata": {},
   "outputs": [],
   "source": [
    "import os"
   ]
  },
  {
   "cell_type": "code",
   "execution_count": 6,
   "metadata": {},
   "outputs": [],
   "source": [
    "graph_data = json.load(open(\"/home/gear/data/ppi/ppi-G.json\"))"
   ]
  },
  {
   "cell_type": "code",
   "execution_count": 7,
   "metadata": {},
   "outputs": [],
   "source": [
    "G = json_graph.node_link_graph(graph_data)"
   ]
  },
  {
   "cell_type": "code",
   "execution_count": 8,
   "metadata": {},
   "outputs": [
    {
     "data": {
      "text/plain": [
       "56944"
      ]
     },
     "execution_count": 8,
     "metadata": {},
     "output_type": "execute_result"
    }
   ],
   "source": [
    "len(G)"
   ]
  },
  {
   "cell_type": "markdown",
   "metadata": {},
   "source": [
    "### Get the number connected components and a mapping for separated graphs"
   ]
  },
  {
   "cell_type": "code",
   "execution_count": 10,
   "metadata": {},
   "outputs": [
    {
     "name": "stdout",
     "output_type": "stream",
     "text": [
      "('Number of connected components: ', 295)\n"
     ]
    }
   ],
   "source": [
    "num_connected_components = nx.number_connected_components(G)\n",
    "connected_components_subgraphs = nx.connected_component_subgraphs(G)\n",
    "\n",
    "print(\"Number of connected components: \", num_connected_components)"
   ]
  },
  {
   "cell_type": "code",
   "execution_count": 11,
   "metadata": {},
   "outputs": [
    {
     "data": {
      "text/plain": [
       "generator"
      ]
     },
     "execution_count": 11,
     "metadata": {},
     "output_type": "execute_result"
    }
   ],
   "source": [
    "type(connected_components_subgraphs)"
   ]
  },
  {
   "cell_type": "code",
   "execution_count": 12,
   "metadata": {},
   "outputs": [],
   "source": [
    "connected_components_subgraphs = [g for g in connected_components_subgraphs]"
   ]
  },
  {
   "cell_type": "code",
   "execution_count": 13,
   "metadata": {},
   "outputs": [
    {
     "data": {
      "text/plain": [
       "{u'test': False, u'val': False}"
      ]
     },
     "execution_count": 13,
     "metadata": {},
     "output_type": "execute_result"
    }
   ],
   "source": [
    "connected_components_subgraphs[0].node[0]"
   ]
  },
  {
   "cell_type": "code",
   "execution_count": 14,
   "metadata": {},
   "outputs": [],
   "source": [
    "test_graphs = []\n",
    "val_graphs = []\n",
    "train_graphs = []\n",
    "for i, g in enumerate(connected_components_subgraphs):\n",
    "    test = 'not set'\n",
    "    val = 'not set'\n",
    "    for node_id in g.nodes():\n",
    "        if test == 'not set' and val == 'not set':\n",
    "            test = str(g.node[node_id]['test'])\n",
    "            val = str(g.node[node_id]['val'])\n",
    "        if str(g.node[node_id]['test']) != test or str(g.node[node_id]['val']) != val:\n",
    "            print(\"Inconsistent in val-test marker for graph index {}\".format(i))\n",
    "    if test == 'True' and val == 'False':\n",
    "        test_graphs.append(g)\n",
    "    if test == 'False' and val == 'True':\n",
    "        val_graphs.append(g)\n",
    "    if test == 'False' and val == 'False':\n",
    "        train_graphs.append(g)\n",
    "    if test == 'True' and val == 'True':\n",
    "        print(\"Something is really wrong.\")"
   ]
  },
  {
   "cell_type": "markdown",
   "metadata": {},
   "source": [
    "The cell above doesn't print val-test warning means that the data is correct: Each whole connected component is a test/val/train."
   ]
  },
  {
   "cell_type": "code",
   "execution_count": 15,
   "metadata": {},
   "outputs": [
    {
     "data": {
      "text/plain": [
       "30"
      ]
     },
     "execution_count": 15,
     "metadata": {},
     "output_type": "execute_result"
    }
   ],
   "source": [
    "len(test_graphs)"
   ]
  },
  {
   "cell_type": "code",
   "execution_count": 16,
   "metadata": {},
   "outputs": [
    {
     "data": {
      "text/plain": [
       "30"
      ]
     },
     "execution_count": 16,
     "metadata": {},
     "output_type": "execute_result"
    }
   ],
   "source": [
    "len(val_graphs)"
   ]
  },
  {
   "cell_type": "code",
   "execution_count": 17,
   "metadata": {},
   "outputs": [
    {
     "data": {
      "text/plain": [
       "235"
      ]
     },
     "execution_count": 17,
     "metadata": {},
     "output_type": "execute_result"
    }
   ],
   "source": [
    "len(train_graphs)"
   ]
  },
  {
   "cell_type": "code",
   "execution_count": 18,
   "metadata": {},
   "outputs": [
    {
     "name": "stdout",
     "output_type": "stream",
     "text": [
      "83331\n"
     ]
    }
   ],
   "source": [
    "print(sum(g.size() for g in test_graphs))"
   ]
  },
  {
   "cell_type": "code",
   "execution_count": 19,
   "metadata": {},
   "outputs": [
    {
     "name": "stdout",
     "output_type": "stream",
     "text": [
      "102187\n"
     ]
    }
   ],
   "source": [
    "print(sum(g.size() for g in val_graphs))"
   ]
  },
  {
   "cell_type": "code",
   "execution_count": 20,
   "metadata": {},
   "outputs": [
    {
     "name": "stdout",
     "output_type": "stream",
     "text": [
      "633198\n"
     ]
    }
   ],
   "source": [
    "print(sum(g.size() for g in train_graphs))"
   ]
  },
  {
   "cell_type": "code",
   "execution_count": 21,
   "metadata": {},
   "outputs": [
    {
     "name": "stdout",
     "output_type": "stream",
     "text": [
      "(0, 3194)\n",
      "(8, 2)\n",
      "(15, 2)\n",
      "(19, 2300)\n"
     ]
    }
   ],
   "source": [
    "for i, tg in enumerate(test_graphs):\n",
    "    if len(tg) > 1:\n",
    "        print(i, len(tg))"
   ]
  },
  {
   "cell_type": "code",
   "execution_count": 62,
   "metadata": {},
   "outputs": [],
   "source": [
    "test_graphs = test_graphs[0], test_graphs[19]"
   ]
  },
  {
   "cell_type": "code",
   "execution_count": 22,
   "metadata": {},
   "outputs": [
    {
     "name": "stdout",
     "output_type": "stream",
     "text": [
      "(0, 3195)\n",
      "(4, 2)\n",
      "(5, 2)\n",
      "(9, 2)\n",
      "(13, 3284)\n",
      "(20, 2)\n",
      "(22, 2)\n",
      "(23, 2)\n",
      "(25, 2)\n"
     ]
    }
   ],
   "source": [
    "for i, vg in enumerate(val_graphs):\n",
    "    if len(vg) > 1:\n",
    "        print(i, len(vg))"
   ]
  },
  {
   "cell_type": "code",
   "execution_count": 63,
   "metadata": {},
   "outputs": [],
   "source": [
    "val_graphs = val_graphs[0], val_graphs[13]"
   ]
  },
  {
   "cell_type": "code",
   "execution_count": 28,
   "metadata": {},
   "outputs": [
    {
     "name": "stdout",
     "output_type": "stream",
     "text": [
      "0 1546\n",
      "9 1377\n",
      "12 2\n",
      "20 2263\n",
      "31 2339\n",
      "42 1578\n",
      "52 1021\n",
      "61 1823\n",
      "74 2488\n",
      "87 591\n",
      "99 3312\n",
      "103 2\n",
      "105 2\n",
      "112 2401\n",
      "119 1878\n",
      "126 1819\n",
      "133 3480\n",
      "141 2\n",
      "150 2794\n",
      "164 2326\n",
      "172 2650\n",
      "187 2815\n",
      "202 3163\n",
      "208 2\n",
      "213 2\n",
      "218 3021\n"
     ]
    }
   ],
   "source": [
    "for i, tg in enumerate(train_graphs):\n",
    "    if len(tg) > 1:\n",
    "        print(i, len(tg))"
   ]
  },
  {
   "cell_type": "code",
   "execution_count": 64,
   "metadata": {},
   "outputs": [],
   "source": [
    "train_graphs = [i for i in train_graphs if len(i) > 2]"
   ]
  },
  {
   "cell_type": "code",
   "execution_count": 65,
   "metadata": {},
   "outputs": [
    {
     "data": {
      "text/plain": [
       "20"
      ]
     },
     "execution_count": 65,
     "metadata": {},
     "output_type": "execute_result"
    }
   ],
   "source": [
    "len(train_graphs)"
   ]
  },
  {
   "cell_type": "code",
   "execution_count": 37,
   "metadata": {},
   "outputs": [
    {
     "data": {
      "image/png": "[encoded data removed]",
      "text/plain": [
       "<Figure size 432x288 with 1 Axes>"
      ]
     },
     "metadata": {},
     "output_type": "display_data"
    }
   ],
   "source": [
    "nx.draw_spring(test_graphs[0], node_color='C0', node_size=10, figsize=(20,15), dpi=300)\n",
    "plt.show()"
   ]
  },
  {
   "cell_type": "code",
   "execution_count": 47,
   "metadata": {},
   "outputs": [],
   "source": [
    "def interactive_graph(graph, name='unamed_plot'):\n",
    "    plot = Plot(plot_width=800, plot_height=800,\n",
    "                x_range=Range1d(-1.1, 1.1), y_range=Range1d(-1.1, 1.1))\n",
    "    plot.title.text = \"Graph {}\".format(name)\n",
    "    plot.add_tools(BoxZoomTool(), ResetTool())\n",
    "    graph_renderer = from_networkx(graph, nx.spring_layout, scale=1, center=(0, 0))\n",
    "    graph_renderer.node_renderer.glyph = Circle(size=8, fill_color=Spectral4[0])\n",
    "    graph_renderer.edge_renderer.glyph = MultiLine(line_alpha=0.5, line_width=1)\n",
    "    plot.renderers.append(graph_renderer)\n",
    "    output_file(name+\".html\")\n",
    "    show(plot)"
   ]
  },
  {
   "cell_type": "markdown",
   "metadata": {},
   "source": [
    "### Adding noise to the feature vectors "
   ]
  },
  {
   "cell_type": "code",
   "execution_count": 23,
   "metadata": {},
   "outputs": [],
   "source": [
    "ppi_features = np.load(\"/home/gear/data/ppi/ppi-feats.npy\")"
   ]
  },
  {
   "cell_type": "code",
   "execution_count": 24,
   "metadata": {},
   "outputs": [
    {
     "data": {
      "text/plain": [
       "56944"
      ]
     },
     "execution_count": 24,
     "metadata": {},
     "output_type": "execute_result"
    }
   ],
   "source": [
    "len(ppi_features)"
   ]
  },
  {
   "cell_type": "code",
   "execution_count": 25,
   "metadata": {},
   "outputs": [
    {
     "data": {
      "text/plain": [
       "(56944, 50)"
      ]
     },
     "execution_count": 25,
     "metadata": {},
     "output_type": "execute_result"
    }
   ],
   "source": [
    "ppi_features.shape"
   ]
  },
  {
   "cell_type": "markdown",
   "metadata": {},
   "source": [
    "The feature vectors are sparse and multi-hot encoded. Looking at the total sparsity and the sparsity for each train/val/test set."
   ]
  },
  {
   "cell_type": "code",
   "execution_count": 26,
   "metadata": {},
   "outputs": [
    {
     "data": {
      "text/plain": [
       "array([ 417.,  432.,  717., 1627.,  336.,  564.,  322.,  731.,  826.,\n",
       "        562.,    0., 1602.,  106.,  701.,  323.,  741.,  596.,  712.,\n",
       "       1142.,  535.,  426., 1173.,  852.,  866.,  548.,  799.,  755.,\n",
       "        301.,  246.,  424., 1771., 1164., 1405., 1387., 1209., 9002.,\n",
       "       1432., 1335., 1278., 1087.,  933., 1310., 1411., 1324., 1185.,\n",
       "       1160., 1349., 1076., 1247., 1233.])"
      ]
     },
     "execution_count": 26,
     "metadata": {},
     "output_type": "execute_result"
    }
   ],
   "source": [
    "sum(ppi_features)"
   ]
  },
  {
   "cell_type": "code",
   "execution_count": 27,
   "metadata": {},
   "outputs": [
    {
     "name": "stdout",
     "output_type": "stream",
     "text": [
      "('Number of nodes with zero features: ', 24211)\n"
     ]
    }
   ],
   "source": [
    "zero_feature_count = 0\n",
    "for f in ppi_features:\n",
    "    if sum(f) == 0:\n",
    "        zero_feature_count += 1\n",
    "print(\"Number of nodes with zero features: \", zero_feature_count)"
   ]
  },
  {
   "cell_type": "code",
   "execution_count": 64,
   "metadata": {},
   "outputs": [
    {
     "name": "stdout",
     "output_type": "stream",
     "text": [
      "Test, val, train zero features count:  2377 2826 19008\n"
     ]
    }
   ],
   "source": [
    "zero_feats_test_count = 0\n",
    "zero_feats_val_count = 0\n",
    "zero_feats_train_count = 0\n",
    "for i, f in enumerate(ppi_features):\n",
    "    if sum(f) == 0:\n",
    "        if G.node[i]['test']:\n",
    "            zero_feats_test_count += 1\n",
    "        elif G.node[i]['val']:\n",
    "            zero_feats_val_count += 1\n",
    "        else:\n",
    "            zero_feats_train_count += 1\n",
    "print(\"Test, val, train zero features count: \", zero_feats_test_count, zero_feats_val_count, zero_feats_train_count)"
   ]
  },
  {
   "cell_type": "code",
   "execution_count": 65,
   "metadata": {},
   "outputs": [],
   "source": [
    "test_count = 0\n",
    "val_count = 0\n",
    "train_count = 0\n",
    "for i in G.nodes():\n",
    "    if G.node[i]['test']:\n",
    "        test_count += 1\n",
    "    elif G.node[i]['val']:\n",
    "        val_count += 1\n",
    "    else:\n",
    "        train_count += 1"
   ]
  },
  {
   "cell_type": "code",
   "execution_count": 66,
   "metadata": {},
   "outputs": [
    {
     "name": "stdout",
     "output_type": "stream",
     "text": [
      "Test, val, train total node count:  5524 6514 44906\n"
     ]
    }
   ],
   "source": [
    "print(\"Test, val, train total node count: \", test_count, val_count, train_count)"
   ]
  },
  {
   "cell_type": "code",
   "execution_count": 67,
   "metadata": {},
   "outputs": [
    {
     "data": {
      "text/plain": [
       "0.43030412744388125"
      ]
     },
     "execution_count": 67,
     "metadata": {},
     "output_type": "execute_result"
    }
   ],
   "source": [
    "2377 / 5524"
   ]
  },
  {
   "cell_type": "code",
   "execution_count": 68,
   "metadata": {},
   "outputs": [
    {
     "data": {
      "text/plain": [
       "0.433834817316549"
      ]
     },
     "execution_count": 68,
     "metadata": {},
     "output_type": "execute_result"
    }
   ],
   "source": [
    "2826 / 6514"
   ]
  },
  {
   "cell_type": "code",
   "execution_count": 69,
   "metadata": {},
   "outputs": [
    {
     "data": {
      "text/plain": [
       "0.4232841936489556"
      ]
     },
     "execution_count": 69,
     "metadata": {},
     "output_type": "execute_result"
    }
   ],
   "source": [
    "19008 / 44906"
   ]
  },
  {
   "cell_type": "markdown",
   "metadata": {},
   "source": [
    "The data is pretty evenly splited in term of zero features nodes."
   ]
  },
  {
   "cell_type": "markdown",
   "metadata": {},
   "source": [
    "A few functions to corrupt a single 1-d feature array"
   ]
  },
  {
   "cell_type": "code",
   "execution_count": 73,
   "metadata": {},
   "outputs": [
    {
     "name": "stdout",
     "output_type": "stream",
     "text": [
      "2 5\n",
      "1 8\n",
      "6 3\n",
      "6 4\n",
      "8 1\n"
     ]
    }
   ],
   "source": [
    "for (i, j) in np.random.choice([1,2,3,4,5,6,7,8,9,0], size=(5,2), replace=True):\n",
    "    print(i,j)"
   ]
  },
  {
   "cell_type": "code",
   "execution_count": 77,
   "metadata": {},
   "outputs": [],
   "source": [
    "def random_swap(arr, noise_rate=0.1):\n",
    "    assert 0.0 <= noise_rate <= 1.0, \"Really?\"\n",
    "    n = len(arr)\n",
    "    count = int(n *noise_rate)\n",
    "    if n < 2*count:\n",
    "        rpl = True\n",
    "    else:\n",
    "        rpl = False\n",
    "    swap_pairs = np.random.choice(range(n), size=(count, 2), replace=rpl)\n",
    "    for (i, j) in swap_pairs:\n",
    "        t = arr[i]\n",
    "        arr[i] = arr[j]\n",
    "        arr[j] = t\n",
    "    return arr"
   ]
  },
  {
   "cell_type": "code",
   "execution_count": 89,
   "metadata": {},
   "outputs": [],
   "source": [
    "def gaussian_noise(arr, mean=0.0, std=1.0):\n",
    "    arr = np.array(arr, dtype=float)\n",
    "    arr = arr + np.random.normal(mean, std, size=arr.shape)\n",
    "    return arr"
   ]
  },
  {
   "cell_type": "code",
   "execution_count": 101,
   "metadata": {},
   "outputs": [],
   "source": [
    "test = np.array([[1,2,3,4,5], [6,7,8,9,0]])"
   ]
  },
  {
   "cell_type": "code",
   "execution_count": 100,
   "metadata": {},
   "outputs": [],
   "source": [
    "t = lambda aa: np.apply_along_axis(lambda a: random_swap(a, noise_rate=0.5), 1, aa)"
   ]
  },
  {
   "cell_type": "code",
   "execution_count": 102,
   "metadata": {},
   "outputs": [
    {
     "data": {
      "text/plain": [
       "array([[5, 4, 3, 2, 1],\n",
       "       [9, 0, 8, 6, 7]])"
      ]
     },
     "execution_count": 102,
     "metadata": {},
     "output_type": "execute_result"
    }
   ],
   "source": [
    "t(test)"
   ]
  },
  {
   "cell_type": "code",
   "execution_count": 103,
   "metadata": {},
   "outputs": [
    {
     "data": {
      "text/plain": [
       "array([[5, 4, 3, 2, 1],\n",
       "       [9, 0, 8, 6, 7]])"
      ]
     },
     "execution_count": 103,
     "metadata": {},
     "output_type": "execute_result"
    }
   ],
   "source": [
    "test"
   ]
  },
  {
   "cell_type": "code",
   "execution_count": 93,
   "metadata": {},
   "outputs": [],
   "source": [
    "def corrupt_features(path_to_file, noise_func, name):\n",
    "    org_features = np.load(path_to_file)\n",
    "    new_features = noise_func(org_features)\n",
    "    new_name, ext = os.path.splitext(path_to_file)\n",
    "    new_name = new_name + name + ext\n",
    "    np.save(new_name, new_features)\n",
    "    print(\"Saved new features set at {}\".format(new_name))"
   ]
  },
  {
   "cell_type": "code",
   "execution_count": 108,
   "metadata": {},
   "outputs": [
    {
     "name": "stdout",
     "output_type": "stream",
     "text": [
      "Saved new features set at /home/gear/data/ppi/ppi-feats-random_swap_0.2.npy\n"
     ]
    }
   ],
   "source": [
    "corrupt_features(\"/home/gear/data/ppi/ppi-feats.npy\", \n",
    "                 lambda aa: np.apply_along_axis(lambda a: random_swap(a, noise_rate=0.2), 1, aa),\n",
    "                 \"-random_swap_0.2\")"
   ]
  },
  {
   "cell_type": "code",
   "execution_count": 109,
   "metadata": {},
   "outputs": [
    {
     "name": "stdout",
     "output_type": "stream",
     "text": [
      "Saved new features set at /home/gear/data/ppi/ppi-feats-random_swap_0.3.npy\n"
     ]
    }
   ],
   "source": [
    "corrupt_features(\"/home/gear/data/ppi/ppi-feats.npy\", \n",
    "                 lambda aa: np.apply_along_axis(lambda a: random_swap(a, noise_rate=0.3), 1, aa),\n",
    "                 \"-random_swap_0.3\")"
   ]
  },
  {
   "cell_type": "code",
   "execution_count": 110,
   "metadata": {},
   "outputs": [
    {
     "name": "stdout",
     "output_type": "stream",
     "text": [
      "Saved new features set at /home/gear/data/ppi/ppi-feats-random_swap_0.35.npy\n"
     ]
    }
   ],
   "source": [
    "corrupt_features(\"/home/gear/data/ppi/ppi-feats.npy\", \n",
    "                 lambda aa: np.apply_along_axis(lambda a: random_swap(a, noise_rate=0.35), 1, aa),\n",
    "                 \"-random_swap_0.35\")"
   ]
  },
  {
   "cell_type": "code",
   "execution_count": 111,
   "metadata": {},
   "outputs": [
    {
     "name": "stdout",
     "output_type": "stream",
     "text": [
      "Saved new features set at /home/gear/data/ppi/ppi-feats-random_swap_0.4.npy\n"
     ]
    }
   ],
   "source": [
    "corrupt_features(\"/home/gear/data/ppi/ppi-feats.npy\", \n",
    "                 lambda aa: np.apply_along_axis(lambda a: random_swap(a, noise_rate=0.4), 1, aa),\n",
    "                 \"-random_swap_0.4\")"
   ]
  },
  {
   "cell_type": "code",
   "execution_count": 112,
   "metadata": {},
   "outputs": [
    {
     "name": "stdout",
     "output_type": "stream",
     "text": [
      "Saved new features set at /home/gear/data/ppi/ppi-feats-random_swap_0.45.npy\n"
     ]
    }
   ],
   "source": [
    "corrupt_features(\"/home/gear/data/ppi/ppi-feats.npy\", \n",
    "                 lambda aa: np.apply_along_axis(lambda a: random_swap(a, noise_rate=0.45), 1, aa),\n",
    "                 \"-random_swap_0.45\")"
   ]
  },
  {
   "cell_type": "code",
   "execution_count": 113,
   "metadata": {},
   "outputs": [
    {
     "name": "stdout",
     "output_type": "stream",
     "text": [
      "Saved new features set at /home/gear/data/ppi/ppi-feats-random_swap_0.5.npy\n"
     ]
    }
   ],
   "source": [
    "corrupt_features(\"/home/gear/data/ppi/ppi-feats.npy\", \n",
    "                 lambda aa: np.apply_along_axis(lambda a: random_swap(a, noise_rate=0.5), 1, aa),\n",
    "                 \"-random_swap_0.5\")"
   ]
  },
  {
   "cell_type": "code",
   "execution_count": 114,
   "metadata": {},
   "outputs": [
    {
     "name": "stdout",
     "output_type": "stream",
     "text": [
      "Saved new features set at /home/gear/data/ppi/ppi-feats-random_swap_0.55.npy\n"
     ]
    }
   ],
   "source": [
    "corrupt_features(\"/home/gear/data/ppi/ppi-feats.npy\", \n",
    "                 lambda aa: np.apply_along_axis(lambda a: random_swap(a, noise_rate=0.55), 1, aa),\n",
    "                 \"-random_swap_0.55\")"
   ]
  },
  {
   "cell_type": "code",
   "execution_count": 115,
   "metadata": {},
   "outputs": [
    {
     "name": "stdout",
     "output_type": "stream",
     "text": [
      "Saved new features set at /home/gear/data/ppi/ppi-feats-random_swap_0.6.npy\n"
     ]
    }
   ],
   "source": [
    "corrupt_features(\"/home/gear/data/ppi/ppi-feats.npy\", \n",
    "                 lambda aa: np.apply_along_axis(lambda a: random_swap(a, noise_rate=0.6), 1, aa),\n",
    "                 \"-random_swap_0.6\")"
   ]
  },
  {
   "cell_type": "code",
   "execution_count": 116,
   "metadata": {},
   "outputs": [
    {
     "name": "stdout",
     "output_type": "stream",
     "text": [
      "Saved new features set at /home/gear/data/ppi/ppi-feats-random_swap_0.65.npy\n"
     ]
    }
   ],
   "source": [
    "corrupt_features(\"/home/gear/data/ppi/ppi-feats.npy\", \n",
    "                 lambda aa: np.apply_along_axis(lambda a: random_swap(a, noise_rate=0.65), 1, aa),\n",
    "                 \"-random_swap_0.65\")"
   ]
  },
  {
   "cell_type": "code",
   "execution_count": 117,
   "metadata": {},
   "outputs": [
    {
     "name": "stdout",
     "output_type": "stream",
     "text": [
      "Saved new features set at /home/gear/data/ppi/ppi-feats-random_swap_0.7.npy\n"
     ]
    }
   ],
   "source": [
    "corrupt_features(\"/home/gear/data/ppi/ppi-feats.npy\", \n",
    "                 lambda aa: np.apply_along_axis(lambda a: random_swap(a, noise_rate=0.7), 1, aa),\n",
    "                 \"-random_swap_0.7\")"
   ]
  },
  {
   "cell_type": "code",
   "execution_count": 121,
   "metadata": {},
   "outputs": [
    {
     "name": "stdout",
     "output_type": "stream",
     "text": [
      "Saved new features set at /home/gear/data/ppi/ppi-feats-random_swap_0.25.npy\n"
     ]
    }
   ],
   "source": [
    "corrupt_features(\"/home/gear/data/ppi/ppi-feats.npy\", \n",
    "                 lambda aa: np.apply_along_axis(lambda a: random_swap(a, noise_rate=0.25), 1, aa),\n",
    "                 \"-random_swap_0.25\")"
   ]
  },
  {
   "cell_type": "code",
   "execution_count": 122,
   "metadata": {},
   "outputs": [
    {
     "name": "stdout",
     "output_type": "stream",
     "text": [
      "Saved new features set at /home/gear/data/ppi/ppi-feats-random_swap_0.15.npy\n"
     ]
    }
   ],
   "source": [
    "corrupt_features(\"/home/gear/data/ppi/ppi-feats.npy\", \n",
    "                 lambda aa: np.apply_along_axis(lambda a: random_swap(a, noise_rate=0.15), 1, aa),\n",
    "                 \"-random_swap_0.15\")"
   ]
  },
  {
   "cell_type": "code",
   "execution_count": 123,
   "metadata": {},
   "outputs": [
    {
     "name": "stdout",
     "output_type": "stream",
     "text": [
      "Saved new features set at /home/gear/data/ppi/ppi-feats-random_swap_0.1.npy\n"
     ]
    }
   ],
   "source": [
    "corrupt_features(\"/home/gear/data/ppi/ppi-feats.npy\", \n",
    "                 lambda aa: np.apply_along_axis(lambda a: random_swap(a, noise_rate=0.1), 1, aa),\n",
    "                 \"-random_swap_0.1\")"
   ]
  },
  {
   "cell_type": "code",
   "execution_count": 124,
   "metadata": {},
   "outputs": [
    {
     "name": "stdout",
     "output_type": "stream",
     "text": [
      "Saved new features set at /home/gear/data/ppi/ppi-feats-random_swap_0.75.npy\n"
     ]
    }
   ],
   "source": [
    "corrupt_features(\"/home/gear/data/ppi/ppi-feats.npy\", \n",
    "                 lambda aa: np.apply_along_axis(lambda a: random_swap(a, noise_rate=0.75), 1, aa),\n",
    "                 \"-random_swap_0.75\")"
   ]
  },
  {
   "cell_type": "code",
   "execution_count": 125,
   "metadata": {},
   "outputs": [
    {
     "name": "stdout",
     "output_type": "stream",
     "text": [
      "Saved new features set at /home/gear/data/ppi/ppi-feats-random_swap_0.8.npy\n"
     ]
    }
   ],
   "source": [
    "corrupt_features(\"/home/gear/data/ppi/ppi-feats.npy\", \n",
    "                 lambda aa: np.apply_along_axis(lambda a: random_swap(a, noise_rate=0.8), 1, aa),\n",
    "                 \"-random_swap_0.8\")"
   ]
  },
  {
   "cell_type": "code",
   "execution_count": 126,
   "metadata": {},
   "outputs": [
    {
     "name": "stdout",
     "output_type": "stream",
     "text": [
      "Saved new features set at /home/gear/data/ppi/ppi-feats-random_swap_0.85.npy\n"
     ]
    }
   ],
   "source": [
    "corrupt_features(\"/home/gear/data/ppi/ppi-feats.npy\", \n",
    "                 lambda aa: np.apply_along_axis(lambda a: random_swap(a, noise_rate=0.85), 1, aa),\n",
    "                 \"-random_swap_0.85\")"
   ]
  },
  {
   "cell_type": "code",
   "execution_count": 127,
   "metadata": {},
   "outputs": [
    {
     "name": "stdout",
     "output_type": "stream",
     "text": [
      "Saved new features set at /home/gear/data/ppi/ppi-feats-random_swap_0.9.npy\n"
     ]
    }
   ],
   "source": [
    "corrupt_features(\"/home/gear/data/ppi/ppi-feats.npy\", \n",
    "                 lambda aa: np.apply_along_axis(lambda a: random_swap(a, noise_rate=0.9), 1, aa),\n",
    "                 \"-random_swap_0.9\")"
   ]
  },
  {
   "cell_type": "code",
   "execution_count": 128,
   "metadata": {},
   "outputs": [
    {
     "name": "stdout",
     "output_type": "stream",
     "text": [
      "Saved new features set at /home/gear/data/ppi/ppi-feats-random_swap_0.95.npy\n"
     ]
    }
   ],
   "source": [
    "corrupt_features(\"/home/gear/data/ppi/ppi-feats.npy\", \n",
    "                 lambda aa: np.apply_along_axis(lambda a: random_swap(a, noise_rate=0.95), 1, aa),\n",
    "                 \"-random_swap_0.95\")"
   ]
  },
  {
   "cell_type": "code",
   "execution_count": 129,
   "metadata": {},
   "outputs": [
    {
     "name": "stdout",
     "output_type": "stream",
     "text": [
      "Saved new features set at /home/gear/data/ppi/ppi-feats-gaussian0_0.01.npy\n"
     ]
    }
   ],
   "source": [
    "corrupt_features(\"/home/gear/data/ppi/ppi-feats.npy\", \n",
    "                 lambda aa: np.apply_along_axis(lambda a: gaussian_noise(a, std=0.01), 1, aa),\n",
    "                 \"-gaussian0_0.01\")"
   ]
  },
  {
   "cell_type": "code",
   "execution_count": 130,
   "metadata": {},
   "outputs": [
    {
     "name": "stdout",
     "output_type": "stream",
     "text": [
      "Saved new features set at /home/gear/data/ppi/ppi-feats-gaussian0_0.05.npy\n"
     ]
    }
   ],
   "source": [
    "corrupt_features(\"/home/gear/data/ppi/ppi-feats.npy\", \n",
    "                 lambda aa: np.apply_along_axis(lambda a: gaussian_noise(a, std=0.01), 1, aa),\n",
    "                 \"-gaussian0_0.05\")"
   ]
  },
  {
   "cell_type": "code",
   "execution_count": 140,
   "metadata": {},
   "outputs": [
    {
     "name": "stdout",
     "output_type": "stream",
     "text": [
      "Saved new features set at /home/gear/data/ppi/ppi-feats-gaussian0_0.1.npy\n",
      "Saved new features set at /home/gear/data/ppi/ppi-feats-gaussian0_0.15.npy\n",
      "Saved new features set at /home/gear/data/ppi/ppi-feats-gaussian0_0.2.npy\n",
      "Saved new features set at /home/gear/data/ppi/ppi-feats-gaussian0_0.25.npy\n",
      "Saved new features set at /home/gear/data/ppi/ppi-feats-gaussian0_0.3.npy\n",
      "Saved new features set at /home/gear/data/ppi/ppi-feats-gaussian0_0.35.npy\n",
      "Saved new features set at /home/gear/data/ppi/ppi-feats-gaussian0_0.4.npy\n",
      "Saved new features set at /home/gear/data/ppi/ppi-feats-gaussian0_0.44999999999999996.npy\n",
      "Saved new features set at /home/gear/data/ppi/ppi-feats-gaussian0_0.5.npy\n",
      "Saved new features set at /home/gear/data/ppi/ppi-feats-gaussian0_0.5499999999999999.npy\n",
      "Saved new features set at /home/gear/data/ppi/ppi-feats-gaussian0_0.6.npy\n",
      "Saved new features set at /home/gear/data/ppi/ppi-feats-gaussian0_0.6499999999999999.npy\n",
      "Saved new features set at /home/gear/data/ppi/ppi-feats-gaussian0_0.7.npy\n",
      "Saved new features set at /home/gear/data/ppi/ppi-feats-gaussian0_0.7499999999999999.npy\n",
      "Saved new features set at /home/gear/data/ppi/ppi-feats-gaussian0_0.7999999999999999.npy\n",
      "Saved new features set at /home/gear/data/ppi/ppi-feats-gaussian0_0.8499999999999999.npy\n",
      "Saved new features set at /home/gear/data/ppi/ppi-feats-gaussian0_0.8999999999999999.npy\n",
      "Saved new features set at /home/gear/data/ppi/ppi-feats-gaussian0_0.95.npy\n"
     ]
    }
   ],
   "source": [
    "for i in np.linspace(0.1, 0.95, 18):\n",
    "    corrupt_features(\"/home/gear/data/ppi/ppi-feats.npy\", \n",
    "                 lambda aa: np.apply_along_axis(lambda a: gaussian_noise(a, std=0.01), 1, aa),\n",
    "                 \"-gaussian0_{}\".format(i))"
   ]
  },
  {
   "cell_type": "markdown",
   "metadata": {},
   "source": [
    "Make a completely random feature set"
   ]
  },
  {
   "cell_type": "code",
   "execution_count": 29,
   "metadata": {},
   "outputs": [],
   "source": [
    "gaussian_feats = np.random.normal(0,1.0,size=(ppi_features.shape))"
   ]
  },
  {
   "cell_type": "code",
   "execution_count": 31,
   "metadata": {},
   "outputs": [],
   "source": [
    "np.save(\"/home/gear/data/ppi/ppi-feats-gaussian.npy\", gaussian_feats)"
   ]
  },
  {
   "cell_type": "code",
   "execution_count": 43,
   "metadata": {},
   "outputs": [],
   "source": [
    "class_map = json.load(open(\"/home/gear/data/ppi/ppi-class_map.json\"))"
   ]
  },
  {
   "cell_type": "code",
   "execution_count": 44,
   "metadata": {},
   "outputs": [
    {
     "data": {
      "text/plain": [
       "121"
      ]
     },
     "execution_count": 44,
     "metadata": {},
     "output_type": "execute_result"
    }
   ],
   "source": [
    "len(class_map.values()[0])"
   ]
  },
  {
   "cell_type": "code",
   "execution_count": 48,
   "metadata": {},
   "outputs": [],
   "source": [
    "class_map = {int(k):np.array(v) for k,v in class_map.items()}"
   ]
  },
  {
   "cell_type": "code",
   "execution_count": 49,
   "metadata": {},
   "outputs": [
    {
     "data": {
      "text/plain": [
       "56944"
      ]
     },
     "execution_count": 49,
     "metadata": {},
     "output_type": "execute_result"
    }
   ],
   "source": [
    "len(class_map)"
   ]
  },
  {
   "cell_type": "markdown",
   "metadata": {},
   "source": [
    "This `class_count` should be named `class_1_count`. In the beginning I misunderstood 0 for no label, but it's actually label-0 and label-1."
   ]
  },
  {
   "cell_type": "code",
   "execution_count": 52,
   "metadata": {},
   "outputs": [],
   "source": [
    "class_count = sum(i for i in class_map.values())"
   ]
  },
  {
   "cell_type": "markdown",
   "metadata": {},
   "source": [
    "This array below show how unbalanced each binary category is."
   ]
  },
  {
   "cell_type": "code",
   "execution_count": 81,
   "metadata": {},
   "outputs": [
    {
     "data": {
      "text/plain": [
       "array([0.65253582, 0.24111408, 0.20723869, 0.24411703, 0.12944296,\n",
       "       0.19385712, 0.24759413, 0.35480472, 0.15460804, 0.34669149,\n",
       "       0.21754706, 0.23774234, 0.70799382, 0.18818488, 0.18521706,\n",
       "       0.36959118, 0.10371593, 0.1404889 , 0.26905381, 0.42566381,\n",
       "       0.19132832, 0.62814344, 0.23066521, 0.32488058, 0.16279151,\n",
       "       0.6328147 , 0.66825302, 0.33464456, 0.69712349, 0.1774726 ,\n",
       "       0.68154678, 0.14412405, 0.88820596, 0.16287932, 0.21633535,\n",
       "       0.32728646, 0.19705325, 0.20992554, 0.41200126, 0.21501826,\n",
       "       0.14461576, 0.20727381, 0.20567575, 0.20251475, 0.13393861,\n",
       "       0.28041585, 0.38778449, 0.39542357, 0.24160579, 0.23199986,\n",
       "       0.35524375, 0.29471059, 0.43430388, 0.41646179, 0.25173855,\n",
       "       0.26078252, 0.16423153, 0.16691838, 0.169254  , 0.23033155,\n",
       "       0.45398988, 0.15625878, 0.19187272, 0.21501826, 0.20300646,\n",
       "       0.12427999, 0.49648778, 0.32970989, 0.47504566, 0.28327831,\n",
       "       0.24160579, 0.16279151, 0.16393299, 0.29205886, 0.19134588,\n",
       "       0.19185516, 0.32414302, 0.1334469 , 0.26810551, 0.23222815,\n",
       "       0.21970708, 0.50500492, 0.27871242, 0.19366395, 0.16175541,\n",
       "       0.578305  , 0.09217828, 0.28473588, 0.27843144, 0.19977522,\n",
       "       0.1743116 , 0.25988691, 0.32161422, 0.17803456, 0.1988796 ,\n",
       "       0.3045975 , 0.17473307, 0.40817294, 0.43779854, 0.26566451,\n",
       "       0.50669078, 0.25707713, 0.16607544, 0.30054088, 0.18744732,\n",
       "       0.29602768, 0.29418376, 0.19157418, 0.46947879, 0.36400674,\n",
       "       0.31750492, 0.18488339, 0.27692119, 0.28953006, 0.20088157,\n",
       "       0.41976328, 0.88493959, 0.7616079 , 0.81397513, 0.55600239,\n",
       "       0.24650534])"
      ]
     },
     "execution_count": 81,
     "metadata": {},
     "output_type": "execute_result"
    }
   ],
   "source": [
    "np.asarray(class_count, dtype=float) / len(class_map)"
   ]
  },
  {
   "cell_type": "markdown",
   "metadata": {},
   "source": [
    "It might be interesting to look into each category to see what's their accuracy scores."
   ]
  },
  {
   "cell_type": "code",
   "execution_count": 82,
   "metadata": {},
   "outputs": [],
   "source": [
    "test_node_set = set([i for g in test_graphs for i in g])"
   ]
  },
  {
   "cell_type": "code",
   "execution_count": 83,
   "metadata": {},
   "outputs": [],
   "source": [
    "val_node_set = set([i for g in val_graphs for i in g])"
   ]
  },
  {
   "cell_type": "code",
   "execution_count": 84,
   "metadata": {},
   "outputs": [],
   "source": [
    "train_node_set = set([i for g in train_graphs for i in g])"
   ]
  },
  {
   "cell_type": "code",
   "execution_count": 89,
   "metadata": {},
   "outputs": [
    {
     "data": {
      "text/plain": [
       "set()"
      ]
     },
     "execution_count": 89,
     "metadata": {},
     "output_type": "execute_result"
    }
   ],
   "source": [
    "test_node_set.intersection(val_node_set) or train_node_set.intersection(val_node_set) or test_node_set.intersection(train_node_set)"
   ]
  },
  {
   "cell_type": "code",
   "execution_count": 97,
   "metadata": {},
   "outputs": [],
   "source": [
    "def random_swap(arr, noise_rate=0.1):\n",
    "    assert 0.0 <= noise_rate <= 1.0, \"Really?\"\n",
    "    n = len(arr)\n",
    "    count = int(n *noise_rate)\n",
    "    if n < 2*count:\n",
    "        rpl = True\n",
    "    else:\n",
    "        rpl = False\n",
    "    swap_pairs = np.random.choice(range(n), size=(count, 2), replace=rpl)\n",
    "    for (i, j) in swap_pairs:\n",
    "        t = arr[i]\n",
    "        arr[i] = arr[j]\n",
    "        arr[j] = t\n",
    "    return arr"
   ]
  },
  {
   "cell_type": "code",
   "execution_count": 139,
   "metadata": {},
   "outputs": [],
   "source": [
    "def corrupt_features(path_to_file, noise_func, name, include=None):\n",
    "    org_features = np.load(path_to_file)\n",
    "    if include is not None:\n",
    "        new_features = org_features[list(include)]\n",
    "    else:\n",
    "        new_features = org_features\n",
    "    new_features = noise_func(new_features)\n",
    "    new_name, ext = os.path.splitext(path_to_file)\n",
    "    new_name = new_name + name + ext\n",
    "    if include is not None:\n",
    "        org_features[list(include)] = new_features\n",
    "        new_features = org_features\n",
    "    np.save(new_name, new_features)\n",
    "    print(\"Saved new features set at {}\".format(new_name))"
   ]
  },
  {
   "cell_type": "code",
   "execution_count": 143,
   "metadata": {},
   "outputs": [
    {
     "name": "stdout",
     "output_type": "stream",
     "text": [
      "Saved new features set at /home/gear/data/ppi/ppi-feats-swap_train_0.05.npy\n",
      "Saved new features set at /home/gear/data/ppi/ppi-feats-swap_train_0.1.npy\n",
      "Saved new features set at /home/gear/data/ppi/ppi-feats-swap_train_0.15.npy\n",
      "Saved new features set at /home/gear/data/ppi/ppi-feats-swap_train_0.2.npy\n",
      "Saved new features set at /home/gear/data/ppi/ppi-feats-swap_train_0.25.npy\n",
      "Saved new features set at /home/gear/data/ppi/ppi-feats-swap_train_0.3.npy\n",
      "Saved new features set at /home/gear/data/ppi/ppi-feats-swap_train_0.35.npy\n",
      "Saved new features set at /home/gear/data/ppi/ppi-feats-swap_train_0.4.npy\n",
      "Saved new features set at /home/gear/data/ppi/ppi-feats-swap_train_0.45.npy\n",
      "Saved new features set at /home/gear/data/ppi/ppi-feats-swap_train_0.5.npy\n",
      "Saved new features set at /home/gear/data/ppi/ppi-feats-swap_train_0.55.npy\n",
      "Saved new features set at /home/gear/data/ppi/ppi-feats-swap_train_0.6.npy\n",
      "Saved new features set at /home/gear/data/ppi/ppi-feats-swap_train_0.65.npy\n",
      "Saved new features set at /home/gear/data/ppi/ppi-feats-swap_train_0.7.npy\n",
      "Saved new features set at /home/gear/data/ppi/ppi-feats-swap_train_0.75.npy\n",
      "Saved new features set at /home/gear/data/ppi/ppi-feats-swap_train_0.8.npy\n",
      "Saved new features set at /home/gear/data/ppi/ppi-feats-swap_train_0.85.npy\n",
      "Saved new features set at /home/gear/data/ppi/ppi-feats-swap_train_0.9.npy\n",
      "Saved new features set at /home/gear/data/ppi/ppi-feats-swap_train_0.95.npy\n"
     ]
    }
   ],
   "source": [
    "for i in np.linspace(0.05, 0.95, 19):\n",
    "    i = np.round(i, 2)\n",
    "    corrupt_features(\"/home/gear/data/ppi/ppi-feats.npy\", \n",
    "                 lambda aa: np.apply_along_axis(lambda a: random_swap(a, noise_rate=i), 1, aa),\n",
    "                 \"-swap_train_{}\".format(i), include=train_node_set)"
   ]
  },
  {
   "cell_type": "code",
   "execution_count": 146,
   "metadata": {},
   "outputs": [
    {
     "data": {
      "text/plain": [
       "array([ 4240,  4898,  1710, 30480, 24744])"
      ]
     },
     "execution_count": 146,
     "metadata": {},
     "output_type": "execute_result"
    }
   ],
   "source": [
    "np.random.choice(list(train_node_set), 5)"
   ]
  },
  {
   "cell_type": "code",
   "execution_count": 150,
   "metadata": {},
   "outputs": [
    {
     "data": {
      "text/plain": [
       "array([55863, 56038, 56744, 54513, 52126])"
      ]
     },
     "execution_count": 150,
     "metadata": {},
     "output_type": "execute_result"
    }
   ],
   "source": [
    "np.random.choice(list(test_node_set), 5)"
   ]
  },
  {
   "cell_type": "code",
   "execution_count": 147,
   "metadata": {},
   "outputs": [],
   "source": [
    "features = np.load(\"/home/gear/data/ppi/ppi-feats.npy\")\n",
    "swap_train_features = np.load(\"/home/gear/data/ppi/ppi-feats-swap_train_0.35.npy\")"
   ]
  },
  {
   "cell_type": "code",
   "execution_count": 152,
   "metadata": {},
   "outputs": [
    {
     "data": {
      "text/plain": [
       "False"
      ]
     },
     "execution_count": 152,
     "metadata": {},
     "output_type": "execute_result"
    }
   ],
   "source": [
    "all(features[4240] == swap_train_features[4240])"
   ]
  },
  {
   "cell_type": "code",
   "execution_count": 155,
   "metadata": {},
   "outputs": [
    {
     "data": {
      "text/plain": [
       "True"
      ]
     },
     "execution_count": 155,
     "metadata": {},
     "output_type": "execute_result"
    }
   ],
   "source": [
    "all(features[52126] == swap_train_features[52126])"
   ]
  },
  {
   "cell_type": "code",
   "execution_count": 156,
   "metadata": {},
   "outputs": [
    {
     "data": {
      "text/plain": [
       "0"
      ]
     },
     "execution_count": 156,
     "metadata": {},
     "output_type": "execute_result"
    }
   ],
   "source": [
    "G.nodes()[0]"
   ]
  },
  {
   "cell_type": "code",
   "execution_count": 159,
   "metadata": {},
   "outputs": [
    {
     "data": {
      "text/plain": [
       "{u'test': False, u'val': False}"
      ]
     },
     "execution_count": 159,
     "metadata": {},
     "output_type": "execute_result"
    }
   ],
   "source": [
    "G.node[0]"
   ]
  },
  {
   "cell_type": "markdown",
   "metadata": {},
   "source": [
    "## Plot degree histogram for PPI"
   ]
  },
  {
   "cell_type": "code",
   "execution_count": 9,
   "metadata": {},
   "outputs": [],
   "source": [
    "ppi_degrees = list(G.degree().values())"
   ]
  },
  {
   "cell_type": "code",
   "execution_count": 10,
   "metadata": {},
   "outputs": [],
   "source": [
    "from matplotlib import rc"
   ]
  },
  {
   "cell_type": "code",
   "execution_count": 31,
   "metadata": {},
   "outputs": [
    {
     "data": {
      "image/png": "[encoded data removed]",
      "text/plain": [
       "<Figure size 576x360 with 1 Axes>"
      ]
     },
     "metadata": {},
     "output_type": "display_data"
    }
   ],
   "source": [
    "sns.set_style({'font.family':'sans-serif', 'font.sans-serif':'Computer Modern'})\n",
    "sns.set_style(\"white\")\n",
    "sns.set(font_scale=1) \n",
    "\n",
    "fig, ax = plt.subplots(figsize=(8,5))\n",
    "ax.set_title(\"PPI Degree distribution\", fontsize=15)\n",
    "ax.set_xlabel(\"Degree\", fontsize=15)\n",
    "ax.set_ylabel(\"Counts\", fontsize=15)\n",
    "sns.distplot(ppi_degrees, ax=ax, bins=50, kde=False)\n",
    "\n",
    "plt.savefig(\"ppi_degree.pdf\")"
   ]
  },
  {
   "cell_type": "code",
   "execution_count": 32,
   "metadata": {},
   "outputs": [
    {
     "data": {
      "text/plain": [
       "0.1782573484131191"
      ]
     },
     "execution_count": 32,
     "metadata": {},
     "output_type": "execute_result"
    }
   ],
   "source": [
    "nx.average_clustering(G)"
   ]
  },
  {
   "cell_type": "code",
   "execution_count": 33,
   "metadata": {},
   "outputs": [
    {
     "data": {
      "text/plain": [
       "0.0005049809080115247"
      ]
     },
     "execution_count": 33,
     "metadata": {},
     "output_type": "execute_result"
    }
   ],
   "source": [
    "nx.density(G)"
   ]
  },
  {
   "cell_type": "code",
   "execution_count": 35,
   "metadata": {},
   "outputs": [
    {
     "data": {
      "text/plain": [
       "28.755127844900255"
      ]
     },
     "execution_count": 35,
     "metadata": {},
     "output_type": "execute_result"
    }
   ],
   "source": [
    "np.mean(ppi_degrees)"
   ]
  },
  {
   "cell_type": "code",
   "execution_count": 36,
   "metadata": {},
   "outputs": [
    {
     "data": {
      "text/plain": [
       "39.53299211134761"
      ]
     },
     "execution_count": 36,
     "metadata": {},
     "output_type": "execute_result"
    }
   ],
   "source": [
    "np.std(ppi_degrees)"
   ]
  },
  {
   "cell_type": "code",
   "execution_count": 37,
   "metadata": {},
   "outputs": [
    {
     "data": {
      "text/plain": [
       "16.0"
      ]
     },
     "execution_count": 37,
     "metadata": {},
     "output_type": "execute_result"
    }
   ],
   "source": [
    "np.median(ppi_degrees)"
   ]
  },
  {
   "cell_type": "code",
   "execution_count": 17,
   "metadata": {},
   "outputs": [],
   "source": [
    "import numpy as np\n",
    "import pickle as pkl\n",
    "import networkx as nx\n",
    "import scipy.sparse as sp\n",
    "from scipy.sparse.linalg.eigen.arpack import eigsh\n",
    "import sys\n",
    "\n",
    "def load_data(dataset_str):\n",
    "    \"\"\"\n",
    "    Loads input data from gcn/data directory\n",
    "    ind.dataset_str.x => the feature vectors of the training instances as scipy.sparse.csr.csr_matrix object;\n",
    "    ind.dataset_str.tx => the feature vectors of the test instances as scipy.sparse.csr.csr_matrix object;\n",
    "    ind.dataset_str.allx => the feature vectors of both labeled and unlabeled training instances\n",
    "        (a superset of ind.dataset_str.x) as scipy.sparse.csr.csr_matrix object;\n",
    "    ind.dataset_str.y => the one-hot labels of the labeled training instances as numpy.ndarray object;\n",
    "    ind.dataset_str.ty => the one-hot labels of the test instances as numpy.ndarray object;\n",
    "    ind.dataset_str.ally => the labels for instances in ind.dataset_str.allx as numpy.ndarray object;\n",
    "    ind.dataset_str.graph => a dict in the format {index: [index_of_neighbor_nodes]} as collections.defaultdict\n",
    "        object;\n",
    "    ind.dataset_str.test.index => the indices of test instances in graph, for the inductive setting as list object.\n",
    "    All objects above must be saved using python pickle module.\n",
    "    :param dataset_str: Dataset name\n",
    "    :return: All data input files loaded (as well the training/test data).\n",
    "    \"\"\"\n",
    "    names = ['x', 'y', 'tx', 'ty', 'allx', 'ally', 'graph']\n",
    "    objects = []\n",
    "    for i in range(len(names)):\n",
    "        with open(\"/data/{}_gcn/ind.{}.{}\".format(dataset_str, dataset_str, names[i]), 'rb') as f:\n",
    "            if sys.version_info > (3, 0):\n",
    "                objects.append(pkl.load(f, encoding='latin1'))\n",
    "            else:\n",
    "                objects.append(pkl.load(f))\n",
    "\n",
    "    x, y, tx, ty, allx, ally, graph = tuple(objects)\n",
    "    test_idx_reorder = parse_index_file(\"/data/{}_gcn/ind.{}.test.index\".format(dataset_str, dataset_str))\n",
    "    test_idx_range = np.sort(test_idx_reorder)\n",
    "\n",
    "    if dataset_str == 'citeseer':\n",
    "        # Fix citeseer dataset (there are some isolated nodes in the graph)\n",
    "        # Find isolated nodes, add them as zero-vecs into the right position\n",
    "        test_idx_range_full = range(min(test_idx_reorder), max(test_idx_reorder)+1)\n",
    "        tx_extended = sp.lil_matrix((len(test_idx_range_full), x.shape[1]))\n",
    "        tx_extended[test_idx_range-min(test_idx_range), :] = tx\n",
    "        tx = tx_extended\n",
    "        ty_extended = np.zeros((len(test_idx_range_full), y.shape[1]))\n",
    "        ty_extended[test_idx_range-min(test_idx_range), :] = ty\n",
    "        ty = ty_extended\n",
    "\n",
    "    features = sp.vstack((allx, tx)).tolil()\n",
    "    features[test_idx_reorder, :] = features[test_idx_range, :]\n",
    "    adj = nx.adjacency_matrix(nx.from_dict_of_lists(graph))\n",
    "\n",
    "    labels = np.vstack((ally, ty))\n",
    "    labels[test_idx_reorder, :] = labels[test_idx_range, :]\n",
    "\n",
    "    idx_test = test_idx_range.tolist()\n",
    "    idx_train = range(len(y))\n",
    "    idx_val = range(len(y), len(y)+500)\n",
    "\n",
    "    train_mask = sample_mask(idx_train, labels.shape[0])\n",
    "    val_mask = sample_mask(idx_val, labels.shape[0])\n",
    "    test_mask = sample_mask(idx_test, labels.shape[0])\n",
    "\n",
    "    y_train = np.zeros(labels.shape)\n",
    "    y_val = np.zeros(labels.shape)\n",
    "    y_test = np.zeros(labels.shape)\n",
    "    y_train[train_mask, :] = labels[train_mask, :]\n",
    "    y_val[val_mask, :] = labels[val_mask, :]\n",
    "    y_test[test_mask, :] = labels[test_mask, :]\n",
    "\n",
    "    return adj, features, y_train, y_val, y_test, train_mask, val_mask, test_mask, labels"
   ]
  },
  {
   "cell_type": "code",
   "execution_count": 18,
   "metadata": {},
   "outputs": [],
   "source": [
    "def parse_index_file(filename):\n",
    "    \"\"\"Parse index file.\"\"\"\n",
    "    index = []\n",
    "    for line in open(filename):\n",
    "        index.append(int(line.strip()))\n",
    "    return index"
   ]
  },
  {
   "cell_type": "code",
   "execution_count": 19,
   "metadata": {},
   "outputs": [],
   "source": [
    "def sample_mask(idx, l):\n",
    "    \"\"\"Create mask.\"\"\"\n",
    "    mask = np.zeros(l)\n",
    "    mask[idx] = 1\n",
    "    return np.array(mask, dtype=np.bool)"
   ]
  },
  {
   "cell_type": "code",
   "execution_count": 20,
   "metadata": {},
   "outputs": [],
   "source": [
    "cora, cora_f, cora_ytrain, cora_yval, cora_ytest, cora_trainm, cora_valm, cora_tmask, cora_l = load_data(\"cora\")"
   ]
  },
  {
   "cell_type": "code",
   "execution_count": 23,
   "metadata": {},
   "outputs": [],
   "source": [
    "degrees = sum(cora.toarray())"
   ]
  },
  {
   "cell_type": "code",
   "execution_count": 25,
   "metadata": {},
   "outputs": [
    {
     "data": {
      "image/png": "[encoded data removed]",
      "text/plain": [
       "<Figure size 576x360 with 1 Axes>"
      ]
     },
     "metadata": {},
     "output_type": "display_data"
    }
   ],
   "source": [
    "sns.set_style({'font.family':'sans-serif', 'font.sans-serif':'Computer Modern'})\n",
    "sns.set_style(\"white\")\n",
    "sns.set(font_scale=1) \n",
    "\n",
    "fig, ax = plt.subplots(figsize=(8,5))\n",
    "ax.set_title(\"Cora Degree distribution\", fontsize=15)\n",
    "ax.set_xlabel(\"Degree\", fontsize=15)\n",
    "ax.set_ylabel(\"Counts\", fontsize=15)\n",
    "sns.distplot(degrees, ax=ax, bins=50, kde=False)\n",
    "\n",
    "plt.savefig(\"cora_degree.pdf\")"
   ]
  },
  {
   "cell_type": "code",
   "execution_count": 26,
   "metadata": {},
   "outputs": [],
   "source": [
    "cora_np = cora.toarray()"
   ]
  },
  {
   "cell_type": "code",
   "execution_count": 43,
   "metadata": {},
   "outputs": [],
   "source": [
    "cora_dict = {i: np.nonzero(cora_np[i])[0].tolist() for i in range(2708)}"
   ]
  },
  {
   "cell_type": "code",
   "execution_count": 81,
   "metadata": {},
   "outputs": [],
   "source": [
    "cora_nx = nx.Graph(cora_dict)"
   ]
  },
  {
   "cell_type": "markdown",
   "metadata": {},
   "source": [
    "**I set node not used for training as validation**"
   ]
  },
  {
   "cell_type": "code",
   "execution_count": 82,
   "metadata": {},
   "outputs": [],
   "source": [
    "for i, (train, val, test) in enumerate(zip(cora_trainm, cora_valm, cora_tmask)):\n",
    "    if train:\n",
    "        cora_nx.node[i][u'test'] = False\n",
    "        cora_nx.node[i][u'val'] = False\n",
    "    elif test:\n",
    "        cora_nx.node[i][u'test'] = True\n",
    "        cora_nx.node[i][u'val'] = False\n",
    "    elif val:\n",
    "        cora_nx.node[i][u'test'] = False\n",
    "        cora_nx.node[i][u'val'] = True\n",
    "    else:\n",
    "        cora_nx.node[i][u'test'] = False\n",
    "        cora_nx.node[i][u'val'] = False"
   ]
  },
  {
   "cell_type": "code",
   "execution_count": 49,
   "metadata": {},
   "outputs": [
    {
     "data": {
      "text/plain": [
       "{u'test': False, u'val': False}"
      ]
     },
     "execution_count": 49,
     "metadata": {},
     "output_type": "execute_result"
    }
   ],
   "source": [
    "cora_nx.node[0]"
   ]
  },
  {
   "cell_type": "code",
   "execution_count": 20,
   "metadata": {},
   "outputs": [
    {
     "data": {
      "text/plain": [
       "<2708x1433 sparse matrix of type '<class 'numpy.float32'>'\n",
       "\twith 49216 stored elements in LInked List format>"
      ]
     },
     "execution_count": 20,
     "metadata": {},
     "output_type": "execute_result"
    }
   ],
   "source": [
    "cora_f"
   ]
  },
  {
   "cell_type": "code",
   "execution_count": 21,
   "metadata": {},
   "outputs": [],
   "source": [
    "cora_id = {str(i): i for i in range(2708)}"
   ]
  },
  {
   "cell_type": "code",
   "execution_count": 22,
   "metadata": {},
   "outputs": [],
   "source": [
    "import json\n",
    "with open('cora-id_map.json', 'w') as fp:\n",
    "    json.dump(cora_id, fp)"
   ]
  },
  {
   "cell_type": "code",
   "execution_count": 33,
   "metadata": {},
   "outputs": [
    {
     "data": {
      "text/plain": [
       "array([[0, 0, 0, ..., 0, 0, 0],\n",
       "       [0, 0, 0, ..., 1, 0, 0],\n",
       "       [0, 0, 0, ..., 1, 0, 0],\n",
       "       ...,\n",
       "       [0, 0, 0, ..., 0, 0, 0],\n",
       "       [0, 0, 0, ..., 0, 0, 0],\n",
       "       [0, 0, 0, ..., 0, 0, 0]], dtype=int32)"
      ]
     },
     "execution_count": 33,
     "metadata": {},
     "output_type": "execute_result"
    }
   ],
   "source": [
    "cora_l"
   ]
  },
  {
   "cell_type": "code",
   "execution_count": 46,
   "metadata": {},
   "outputs": [],
   "source": [
    "cora_classmap = {str(i): cora_l[i].tolist() for i in range(2708)}"
   ]
  },
  {
   "cell_type": "code",
   "execution_count": 47,
   "metadata": {},
   "outputs": [
    {
     "data": {
      "text/plain": [
       "[0, 0, 0, 1, 0, 0, 0]"
      ]
     },
     "execution_count": 47,
     "metadata": {},
     "output_type": "execute_result"
    }
   ],
   "source": [
    "cora_classmap[\"0\"]"
   ]
  },
  {
   "cell_type": "code",
   "execution_count": 48,
   "metadata": {},
   "outputs": [],
   "source": [
    "with open('cora-class_map.json', 'w') as fp:\n",
    "    json.dump(cora_classmap, fp)"
   ]
  },
  {
   "cell_type": "code",
   "execution_count": 50,
   "metadata": {},
   "outputs": [],
   "source": [
    "np.save(\"cora-feats.npy\", cora_f.toarray())"
   ]
  },
  {
   "cell_type": "code",
   "execution_count": 83,
   "metadata": {},
   "outputs": [],
   "source": [
    "with open('cora-G.json', 'w') as outfile1:\n",
    "    outfile1.write(json.dumps(json_graph.node_link_data(cora_nx)))"
   ]
  },
  {
   "cell_type": "code",
   "execution_count": 70,
   "metadata": {},
   "outputs": [],
   "source": [
    "cora_degrees = [j for i, j in cora_nx.degree()]"
   ]
  },
  {
   "cell_type": "code",
   "execution_count": 56,
   "metadata": {},
   "outputs": [],
   "source": [
    "cora_data = json.load(open(\"cora-G.json\"))"
   ]
  },
  {
   "cell_type": "code",
   "execution_count": 57,
   "metadata": {},
   "outputs": [],
   "source": [
    "G = json_graph.node_link_graph(cora_data)"
   ]
  },
  {
   "cell_type": "code",
   "execution_count": 58,
   "metadata": {},
   "outputs": [
    {
     "data": {
      "text/plain": [
       "2708"
      ]
     },
     "execution_count": 58,
     "metadata": {},
     "output_type": "execute_result"
    }
   ],
   "source": [
    "len(G)"
   ]
  },
  {
   "cell_type": "code",
   "execution_count": 59,
   "metadata": {},
   "outputs": [
    {
     "data": {
      "text/plain": [
       "5278"
      ]
     },
     "execution_count": 59,
     "metadata": {},
     "output_type": "execute_result"
    }
   ],
   "source": [
    "G.size()"
   ]
  },
  {
   "cell_type": "code",
   "execution_count": 84,
   "metadata": {},
   "outputs": [
    {
     "data": {
      "text/plain": [
       "5278"
      ]
     },
     "execution_count": 84,
     "metadata": {},
     "output_type": "execute_result"
    }
   ],
   "source": [
    "G.size()"
   ]
  },
  {
   "cell_type": "code",
   "execution_count": 61,
   "metadata": {},
   "outputs": [],
   "source": [
    "sys.path.append('..')"
   ]
  },
  {
   "cell_type": "code",
   "execution_count": 62,
   "metadata": {},
   "outputs": [],
   "source": [
    "from graphsage.utils import load_data"
   ]
  },
  {
   "cell_type": "code",
   "execution_count": 63,
   "metadata": {},
   "outputs": [
    {
     "name": "stdout",
     "output_type": "stream",
     "text": [
      "Removed 0 nodes that lacked proper annotations due to networkx versioning issues\n",
      "Loaded data.. now preprocessing..\n"
     ]
    }
   ],
   "source": [
    "train = load_data(\"/data/cora_gcn/cora\", \"\")"
   ]
  },
  {
   "cell_type": "code",
   "execution_count": 65,
   "metadata": {},
   "outputs": [],
   "source": [
    "cora_nx = train[0]"
   ]
  },
  {
   "cell_type": "code",
   "execution_count": 66,
   "metadata": {},
   "outputs": [
    {
     "data": {
      "text/plain": [
       "{633: {'train_removed': True},\n",
       " 1862: {'train_removed': True},\n",
       " 2582: {'train_removed': True}}"
      ]
     },
     "execution_count": 66,
     "metadata": {},
     "output_type": "execute_result"
    }
   ],
   "source": [
    "cora_nx[0]"
   ]
  },
  {
   "cell_type": "code",
   "execution_count": 67,
   "metadata": {},
   "outputs": [
    {
     "data": {
      "text/plain": [
       "{u'test': False, u'val': False}"
      ]
     },
     "execution_count": 67,
     "metadata": {},
     "output_type": "execute_result"
    }
   ],
   "source": [
    "cora_nx.node[0]"
   ]
  },
  {
   "cell_type": "code",
   "execution_count": 68,
   "metadata": {},
   "outputs": [
    {
     "data": {
      "text/plain": [
       "{0: {'train_removed': True},\n",
       " 1701: {'train_removed': True},\n",
       " 1866: {'train_removed': True}}"
      ]
     },
     "execution_count": 68,
     "metadata": {},
     "output_type": "execute_result"
    }
   ],
   "source": [
    "cora_nx[633]"
   ]
  },
  {
   "cell_type": "code",
   "execution_count": 80,
   "metadata": {},
   "outputs": [
    {
     "data": {
      "text/plain": [
       "{2: {'train_removed': False},\n",
       " 652: {'train_removed': True},\n",
       " 654: {'train_removed': True}}"
      ]
     },
     "execution_count": 80,
     "metadata": {},
     "output_type": "execute_result"
    }
   ],
   "source": [
    "cora_nx.edge[1]"
   ]
  },
  {
   "cell_type": "code",
   "execution_count": null,
   "metadata": {},
   "outputs": [],
   "source": []
  }
 ],
 "metadata": {
  "kernelspec": {
   "display_name": "Python 2",
   "language": "python",
   "name": "python2"
  },
  "language_info": {
   "codemirror_mode": {
    "name": "ipython",
    "version": 2
   },
   "file_extension": ".py",
   "mimetype": "text/x-python",
   "name": "python",
   "nbconvert_exporter": "python",
   "pygments_lexer": "ipython2",
   "version": "2.7.15"
  }
 },
 "nbformat": 4,
 "nbformat_minor": 2
}
