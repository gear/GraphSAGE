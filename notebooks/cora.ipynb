{
 "cells": [
  {
   "cell_type": "code",
   "execution_count": 1,
   "metadata": {},
   "outputs": [],
   "source": [
    "import numpy as np\n",
    "import networkx as nx\n",
    "import json\n",
    "from networkx.readwrite import json_graph\n",
    "from matplotlib import pyplot as plt\n",
    "import pandas as pd\n",
    "import seaborn as sns\n",
    "import matplotlib.pyplot as plt\n",
    "from scipy import stats\n",
    "sns.set(color_codes=True)\n",
    "import os\n",
    "import sys\n",
    "import pickle as pkl\n",
    "import scipy.sparse as sp\n",
    "from scipy.sparse.linalg.eigen.arpack import eigsh\n",
    "from collections import Counter"
   ]
  },
  {
   "cell_type": "code",
   "execution_count": 2,
   "metadata": {},
   "outputs": [],
   "source": [
    "def load_data(dataset_str):\n",
    "    \"\"\"\n",
    "    Loads input data from gcn/data directory\n",
    "    ind.dataset_str.x => the feature vectors of the training instances as scipy.sparse.csr.csr_matrix object;\n",
    "    ind.dataset_str.tx => the feature vectors of the test instances as scipy.sparse.csr.csr_matrix object;\n",
    "    ind.dataset_str.allx => the feature vectors of both labeled and unlabeled training instances\n",
    "        (a superset of ind.dataset_str.x) as scipy.sparse.csr.csr_matrix object;\n",
    "    ind.dataset_str.y => the one-hot labels of the labeled training instances as numpy.ndarray object;\n",
    "    ind.dataset_str.ty => the one-hot labels of the test instances as numpy.ndarray object;\n",
    "    ind.dataset_str.ally => the labels for instances in ind.dataset_str.allx as numpy.ndarray object;\n",
    "    ind.dataset_str.graph => a dict in the format {index: [index_of_neighbor_nodes]} as collections.defaultdict\n",
    "        object;\n",
    "    ind.dataset_str.test.index => the indices of test instances in graph, for the inductive setting as list object.\n",
    "    All objects above must be saved using python pickle module.\n",
    "    :param dataset_str: Dataset name\n",
    "    :return: All data input files loaded (as well the training/test data).\n",
    "    \"\"\"\n",
    "    names = ['x', 'y', 'tx', 'ty', 'allx', 'ally', 'graph']\n",
    "    objects = []\n",
    "    for i in range(len(names)):\n",
    "        with open(\"/data/{}_gcn/ind.{}.{}\".format(dataset_str, dataset_str, names[i]), 'rb') as f:\n",
    "            if sys.version_info > (3, 0):\n",
    "                objects.append(pkl.load(f, encoding='latin1'))\n",
    "            else:\n",
    "                objects.append(pkl.load(f))\n",
    "\n",
    "    x, y, tx, ty, allx, ally, graph = tuple(objects)\n",
    "    test_idx_reorder = parse_index_file(\"/data/{}_gcn/ind.{}.test.index\".format(dataset_str, dataset_str))\n",
    "    test_idx_range = np.sort(test_idx_reorder)\n",
    "\n",
    "    if dataset_str == 'citeseer':\n",
    "        # Fix citeseer dataset (there are some isolated nodes in the graph)\n",
    "        # Find isolated nodes, add them as zero-vecs into the right position\n",
    "        test_idx_range_full = range(min(test_idx_reorder), max(test_idx_reorder)+1)\n",
    "        tx_extended = sp.lil_matrix((len(test_idx_range_full), x.shape[1]))\n",
    "        tx_extended[test_idx_range-min(test_idx_range), :] = tx\n",
    "        tx = tx_extended\n",
    "        ty_extended = np.zeros((len(test_idx_range_full), y.shape[1]))\n",
    "        ty_extended[test_idx_range-min(test_idx_range), :] = ty\n",
    "        ty = ty_extended\n",
    "\n",
    "    features = sp.vstack((allx, tx)).tolil()\n",
    "    features[test_idx_reorder, :] = features[test_idx_range, :]\n",
    "    adj = nx.adjacency_matrix(nx.from_dict_of_lists(graph))\n",
    "\n",
    "    labels = np.vstack((ally, ty))\n",
    "    labels[test_idx_reorder, :] = labels[test_idx_range, :]\n",
    "\n",
    "    idx_test = test_idx_range.tolist()\n",
    "    idx_train = range(len(y))\n",
    "    idx_val = range(len(y), len(y)+500)\n",
    "\n",
    "    train_mask = sample_mask(idx_train, labels.shape[0])\n",
    "    val_mask = sample_mask(idx_val, labels.shape[0])\n",
    "    test_mask = sample_mask(idx_test, labels.shape[0])\n",
    "\n",
    "    y_train = np.zeros(labels.shape)\n",
    "    y_val = np.zeros(labels.shape)\n",
    "    y_test = np.zeros(labels.shape)\n",
    "    y_train[train_mask, :] = labels[train_mask, :]\n",
    "    y_val[val_mask, :] = labels[val_mask, :]\n",
    "    y_test[test_mask, :] = labels[test_mask, :]\n",
    "\n",
    "    return adj, features, y_train, y_val, y_test, train_mask, val_mask, test_mask, labels\n",
    "\n",
    "def parse_index_file(filename):\n",
    "    \"\"\"Parse index file.\"\"\"\n",
    "    index = []\n",
    "    for line in open(filename):\n",
    "        index.append(int(line.strip()))\n",
    "    return index\n",
    "\n",
    "def sample_mask(idx, l):\n",
    "    \"\"\"Create mask.\"\"\"\n",
    "    mask = np.zeros(l)\n",
    "    mask[idx] = 1\n",
    "    return np.array(mask, dtype=np.bool)"
   ]
  },
  {
   "cell_type": "code",
   "execution_count": 43,
   "metadata": {},
   "outputs": [],
   "source": [
    "def gini(array):\n",
    "    \"\"\"Calculate the Gini coefficient of a numpy array.\"\"\"\n",
    "    # based on bottom eq:\n",
    "    # http://www.statsdirect.com/help/generatedimages/equations/equation154.svg\n",
    "    # from:\n",
    "    # http://www.statsdirect.com/help/default.htm#nonparametric_methods/gini.htm\n",
    "    # All values are treated equally, arrays must be 1d:\n",
    "    array = array.flatten()\n",
    "    if np.amin(array) < 0:\n",
    "        # Values cannot be negative:\n",
    "        array -= np.amin(array)\n",
    "    # Values cannot be 0:\n",
    "    array += 0.0000001\n",
    "    # Values must be sorted:\n",
    "    array = np.sort(array)\n",
    "    # Index per array element:\n",
    "    index = np.arange(1,array.shape[0]+1)\n",
    "    # Number of array elements:\n",
    "    n = array.shape[0]\n",
    "    # Gini coefficient:\n",
    "    return ((np.sum((2 * index - n  - 1) * array)) / (n * np.sum(array)))"
   ]
  },
  {
   "cell_type": "code",
   "execution_count": null,
   "metadata": {},
   "outputs": [],
   "source": [
    "cora, cora_f, cora_ytrain, cora_yval, cora_ytest, cora_trainm, cora_valm, cora_tmask, cora_l = load_data(\"cora\")\n",
    "cora_np = cora.toarray()\n",
    "cora_dict = {i: np.nonzero(cora_np[i])[0].tolist() for i in range(cora_np.shape[0])}\n",
    "cora_nx = nx.Graph(cora_dict)"
   ]
  },
  {
   "cell_type": "code",
   "execution_count": 51,
   "metadata": {},
   "outputs": [],
   "source": [
    "def graph_report(nx_graph, name=None):\n",
    "    print(\"==== {} Report ====\".format(name or \"Untitled Graph\"))\n",
    "    print(\"Number of nodes: {:,} nodes\".format(nx_graph.number_of_nodes()))\n",
    "    print(\"Number of edges: {:,} edges\".format(nx_graph.number_of_edges()))\n",
    "    degs = nx_graph.degree().values()\n",
    "    print(\"Average degree: {:.3f} edges / node\".format(np.mean(degs)))\n",
    "    print(\"Maximum degree: {:,} edges\".format(np.max(degs)))\n",
    "    print(\"Minimum degree: {:,} edges\".format(np.min(degs)))\n",
    "    print(\"Gini coefficient: {:.3f}\".format(gini(np.array(degs, dtype=float))))\n",
    "    print(\"Number of connected components: {} components\".format(nx.number_connected_components(nx_graph)))\n",
    "    print(\"Degree assortivity: {:.3f}\".format(nx.assortativity.degree_assortativity_coefficient(nx_graph)))"
   ]
  },
  {
   "cell_type": "code",
   "execution_count": 52,
   "metadata": {},
   "outputs": [
    {
     "name": "stdout",
     "output_type": "stream",
     "text": [
      "==== Cora Report ====\n",
      "Number of nodes: 2,708 nodes\n",
      "Number of edges: 5,278 edges\n",
      "Average degree: 3.898 edges / node\n",
      "Maximum degree: 168 edges\n",
      "Minimum degree: 1 edges\n",
      "Gini coefficient: 0.405\n",
      "Number of connected components: 78 components\n",
      "Degree assortivity: -0.066\n"
     ]
    }
   ],
   "source": [
    "graph_report(cora_nx, name=\"Cora\")"
   ]
  },
  {
   "cell_type": "code",
   "execution_count": null,
   "metadata": {},
   "outputs": [],
   "source": [
    "nx.connected_component_subgraphs"
   ]
  },
  {
   "cell_type": "code",
   "execution_count": 99,
   "metadata": {},
   "outputs": [],
   "source": [
    "def laplacian_spectrum(gnx, name=None):\n",
    "    print(\"==== {} Report ====\".format(name or \"Untitled Graph\"))\n",
    "    lspec = nx.spectrum.laplacian_spectrum(gnx)\n",
    "    print(\"Spectrum gap: {}\".format(lspec[-1] - lspec[-2]))\n",
    "    # Plot\n",
    "    sns.set_style({'font.family':'sans-serif', 'font.sans-serif':'Computer Modern'})\n",
    "    sns.set(font_scale=1.2) \n",
    "    fig, ax = plt.subplots(figsize=(6,5))\n",
    "    ax.set_title(\"Laplacian Eigenvalues of {}\".format(name), fontsize=15)\n",
    "    ax.set_xlabel(\"Index\", fontsize=15)\n",
    "    ax.set_ylabel(\"Real\", fontsize=15)\n",
    "    ax.set_xscale(\"linear\")\n",
    "    sns.lineplot(x=range(gnx.number_of_nodes()), y=lspec)\n",
    "    plt.savefig(\"lapspec_{}.pdf\".format(name))"
   ]
  },
  {
   "cell_type": "code",
   "execution_count": 100,
   "metadata": {},
   "outputs": [
    {
     "name": "stdout",
     "output_type": "stream",
     "text": [
      "==== Cora Report ====\n",
      "Spectrum gap: 89.9669732257\n"
     ]
    },
    {
     "data": {
      "image/png": "[encoded data removed]",
      "text/plain": [
       "<Figure size 432x360 with 1 Axes>"
      ]
     },
     "metadata": {},
     "output_type": "display_data"
    }
   ],
   "source": [
    "laplacian_spectrum(cora_nx, \"Cora\")"
   ]
  },
  {
   "cell_type": "code",
   "execution_count": 123,
   "metadata": {},
   "outputs": [],
   "source": [
    "def plot_degree_dist(nxg, name=None):\n",
    "    print(\"==== {} Report ====\".format(name or \"Untitled Graph\"))\n",
    "    degs = nxg.degree().values()\n",
    "    degs = Counter(degs)\n",
    "    xdata = sorted(degs.keys())\n",
    "    ydata = [degs[i] for i in xdata]\n",
    "    # Plot\n",
    "    sns.set_style({'font.family':'sans-serif', 'font.sans-serif':'Computer Modern'})\n",
    "    sns.set(font_scale=1.2) \n",
    "    fig, ax = plt.subplots(figsize=(6,5))\n",
    "    ax.set_title(\"Degree Distribution of {}\".format(name), fontsize=15)\n",
    "    ax.set_xlabel(\"Log-Degree\", fontsize=15)\n",
    "    ax.set_ylabel(\"Log-Count\", fontsize=15)\n",
    "    ax.set_xscale(\"log\")\n",
    "    ax.set_yscale(\"log\")\n",
    "    ax = sns.scatterplot(x=xdata, y=ydata)\n",
    "    plt.savefig(\"degree_{}.pdf\".format(name))"
   ]
  },
  {
   "cell_type": "code",
   "execution_count": 124,
   "metadata": {},
   "outputs": [
    {
     "name": "stdout",
     "output_type": "stream",
     "text": [
      "==== Cora Report ====\n"
     ]
    },
    {
     "data": {
      "image/png": "[encoded data removed]",
      "text/plain": [
       "<Figure size 432x360 with 1 Axes>"
      ]
     },
     "metadata": {},
     "output_type": "display_data"
    }
   ],
   "source": [
    "plot_degree_dist(cora_nx, \"Cora\")"
   ]
  },
  {
   "cell_type": "code",
   "execution_count": 125,
   "metadata": {},
   "outputs": [
    {
     "data": {
      "text/plain": [
       "0.0014399999126942077"
      ]
     },
     "execution_count": 125,
     "metadata": {},
     "output_type": "execute_result"
    }
   ],
   "source": [
    "nx.density(cora_nx)"
   ]
  },
  {
   "cell_type": "code",
   "execution_count": 126,
   "metadata": {},
   "outputs": [],
   "source": [
    "er_cora = nx.erdos_renyi_graph(cora_nx.number_of_nodes(), nx.density(cora_nx))"
   ]
  },
  {
   "cell_type": "code",
   "execution_count": 127,
   "metadata": {},
   "outputs": [
    {
     "data": {
      "text/plain": [
       "5406"
      ]
     },
     "execution_count": 127,
     "metadata": {},
     "output_type": "execute_result"
    }
   ],
   "source": [
    "er_cora.size()"
   ]
  },
  {
   "cell_type": "code",
   "execution_count": 129,
   "metadata": {},
   "outputs": [
    {
     "data": {
      "image/png": "[encoded data removed]",
      "text/plain": [
       "<Figure size 432x360 with 1 Axes>"
      ]
     },
     "metadata": {},
     "output_type": "display_data"
    }
   ],
   "source": [
    "degs = cora_nx.degree().values()\n",
    "degs = Counter(degs)\n",
    "xdata = sorted(degs.keys())\n",
    "ydata = [degs[i] for i in xdata]\n",
    "\n",
    "edegs = er_cora.degree().values()\n",
    "edegs = Counter(edegs)\n",
    "exdata = sorted(edegs.keys())\n",
    "eydata = [edegs[i] for i in exdata]\n",
    "\n",
    "# Plot\n",
    "sns.set_style({'font.family':'sans-serif', 'font.sans-serif':'Computer Modern'})\n",
    "sns.set(font_scale=1.2) \n",
    "fig, ax = plt.subplots(figsize=(6,5))\n",
    "ax.set_title(\"Degree Distribution of {} compare to a E-R graph\".format(\"Cora\"), fontsize=15)\n",
    "ax.set_xlabel(\"Log-Degree\", fontsize=15)\n",
    "ax.set_ylabel(\"Log-Count\", fontsize=15)\n",
    "ax.set_xscale(\"log\")\n",
    "ax.set_yscale(\"log\")\n",
    "ax = sns.scatterplot(x=xdata, y=ydata)\n",
    "ax = sns.scatterplot(x=exdata, y=eydata)\n"
   ]
  },
  {
   "cell_type": "code",
   "execution_count": null,
   "metadata": {},
   "outputs": [],
   "source": []
  }
 ],
 "metadata": {
  "kernelspec": {
   "display_name": "Python 2",
   "language": "python",
   "name": "python2"
  },
  "language_info": {
   "codemirror_mode": {
    "name": "ipython",
    "version": 2
   },
   "file_extension": ".py",
   "mimetype": "text/x-python",
   "name": "python",
   "nbconvert_exporter": "python",
   "pygments_lexer": "ipython2",
   "version": "2.7.15"
  }
 },
 "nbformat": 4,
 "nbformat_minor": 2
}
